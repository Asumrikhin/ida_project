{
 "cells": [
  {
   "cell_type": "markdown",
   "metadata": {},
   "source": [
    "# Проект по анализу данных "
   ]
  },
  {
   "cell_type": "markdown",
   "metadata": {},
   "source": [
    "Рейтинг университетов."
   ]
  },
  {
   "cell_type": "markdown",
   "metadata": {},
   "source": [
    "Для анализа рейтингов университетов по всему миру используются данные с сайта kaggle.com (ссылка: https://www.kaggle.com/mylesoneill/world-university-rankings)"
   ]
  },
  {
   "cell_type": "markdown",
   "metadata": {},
   "source": [
    "__ Цели и задачи проекта: __\n",
    "\n",
    "Определение места университета в мировых рейтингах в соответствии с имеющимися данными, что позволит университетам выделить наиболее приоритеные направления развития для увеличения своей популярности и мирового признания.\n",
    "\n"
   ]
  },
  {
   "cell_type": "markdown",
   "metadata": {},
   "source": [
    "__Описание набора данных__\n",
    "Данные представляют собой три независимых рейтинга университетов мира и две базы данных\n",
    "    Рейтинг Times Higher Education World University Ranking \n",
    "    Рейтинг Academic Ranking of World Universities\n",
    "    Рейтинг Center for World University Rankings\n",
    "    Данные по качеству образования\n",
    "    Данные по государственым и частным затратам на образование "
   ]
  },
  {
   "cell_type": "code",
   "execution_count": 2,
   "metadata": {
    "collapsed": false
   },
   "outputs": [],
   "source": [
    "import pandas as pd\n",
    "import scipy.stats \n",
    "import numpy as np\n",
    "import matplotlib.pyplot as plt\n",
    "import operator\n",
    "from sklearn.preprocessing import normalize\n",
    "from scipy.stats.stats import pearsonr\n",
    "%matplotlib inline\n",
    "df1 = pd.read_csv('timesData.csv')\n",
    "df2 = pd.read_csv('shanghaiData.csv')\n",
    "school_country = pd.read_csv('school_and_country_table.csv')\n",
    "df3 = pd.read_csv('cwurData.csv')\n",
    "attain_sup = pd.read_csv('educational_attainment_supplementary_data.csv')\n",
    "expend_sup = pd.read_csv('education_expenditure_supplementary_data.csv', engine='python')"
   ]
  },
  {
   "cell_type": "code",
   "execution_count": 80,
   "metadata": {
    "collapsed": true
   },
   "outputs": [],
   "source": [
    "pd.options.mode.chained_assignment = None"
   ]
  },
  {
   "cell_type": "markdown",
   "metadata": {},
   "source": [
    "Изучим переменные, представленные в каждом рейтинге:"
   ]
  },
  {
   "cell_type": "code",
   "execution_count": 3,
   "metadata": {
    "collapsed": false,
    "scrolled": true
   },
   "outputs": [
    {
     "name": "stdout",
     "output_type": "stream",
     "text": [
      "Times Higher Education World University Ranking\n",
      "Index(['world_rank', 'university_name', 'country', 'teaching', 'international',\n",
      "       'research', 'citations', 'income', 'total_score', 'num_students',\n",
      "       'student_staff_ratio', 'international_students', 'female_male_ratio',\n",
      "       'year'],\n",
      "      dtype='object')\n",
      "\n",
      "\n",
      "Academic Ranking of World Universities\n",
      "Index(['world_rank', 'university_name', 'national_rank', 'total_score',\n",
      "       'alumni', 'award', 'hici', 'ns', 'pub', 'pcp', 'year'],\n",
      "      dtype='object')\n",
      "\n",
      "\n",
      "Center for World University Rankings\n",
      "Index(['world_rank', 'institution', 'country', 'national_rank',\n",
      "       'quality_of_education', 'alumni_employment', 'quality_of_faculty',\n",
      "       'publications', 'influence', 'citations', 'broad_impact', 'patents',\n",
      "       'score', 'year'],\n",
      "      dtype='object')\n",
      "\n",
      "\n"
     ]
    }
   ],
   "source": [
    "df = [df1, df2, df3] # список из баз данных по рейтингам университетов\n",
    "names_rank = ['Times Higher Education World University Ranking', 'Academic Ranking of World Universities', 'Center for World University Rankings']\n",
    "# names_rank список официальных наименований рейтингов\n",
    "for i in range(len(df)):\n",
    "    col = (df[i]).columns\n",
    "    print(names_rank[i])\n",
    "    print(col)\n",
    "    print('\\n')"
   ]
  },
  {
   "cell_type": "markdown",
   "metadata": {},
   "source": [
    "__Список перемнных:__\n",
    "1. Times Higher Education World University Ranking:\n",
    "    * world_rank - мировой рейтинг для университета\n",
    "    * university_name - название унивеситета\n",
    "    * country - страна, в которой находится университет\n",
    "    * teaching - баллы университета за обучение\n",
    "    * international - баллы университета за международное сотрудничество(преподаватели, студенты, исследования)\n",
    "    * research - баллы университета за исследования\n",
    "    * citations - баллы университета за цитирование\n",
    "    * income - баллы университета за вклад в образование(перемещение знаний)\n",
    "    * total_score - итоговый балл\n",
    "    * num_students - количество обучаемых студентов\n",
    "    * student_staff_ratio - соотношение числа студентов и преподавателей\n",
    "    * international_students - процент иностранных студентов\n",
    "    * female_male_ratio - соотношение женщин и мужчин среди студентов\n",
    "    * year - год, в котором составлялся рейтинг\n",
    "2. Academic Ranking of World Universities:\n",
    "    * world_rank - мировой рейтинг для университета\n",
    "    * university_name - название унивеситета\n",
    "    * national_rank - рейтинг университета в пределах своей страны\n",
    "    * total_score - итоговый балл\n",
    "    * alumni - баллы университета за успешних выпускников(лауреаты Нобелевской премии или других наград)\n",
    "    * award - баллы университета за успешних преподавателей(лауреаты Нобелевской премии)\n",
    "    * hici - баллы университета за высоко оцененных исследователей\n",
    "    * ns - баллы университета за публикации в Nature and Science\n",
    "    * pub - баллы университета за общее количество публикаций\n",
    "    * pcp - взвешенные баллы университета за преподавателей на полной ставке\n",
    "    * year - год, в котором составлялся рейтинг\n",
    "3. Academic Ranking of World Universities:\n",
    "    * world_rank - мировой рейтинг для университета\n",
    "    * institution - название унивеситета\n",
    "    * country - страна, в которой находится университет\n",
    "    * national_rank - рейтинг университета в пределах своей страны\n",
    "    * quality_of_education - рейтинг качеству образования\n",
    "    * alumni_employment - рейтинг по трудоустройству выпускников\n",
    "    * quality_of_faculty - рейтинг по качеству преподавательского состава\n",
    "    * publications - рейтинг университета по публикациям\n",
    "    * influence - рейтинг университета по влиянию\n",
    "    * citations - рейтинг университета по цитированию\n",
    "    * broad_impact - рейтинг университета по общему влиянию\n",
    "    * patents - рейтинг университета по патентам\n",
    "    * score - итоговый балл\n",
    "    * year - год, в котором составлялся рейтинг"
   ]
  },
  {
   "cell_type": "markdown",
   "metadata": {},
   "source": [
    "Помимо трех мировых рейтингов среди данных присутсвуют три базы данных:\n",
    "1. School and Country\n",
    "    * school name - название унивеситета\n",
    "    * country - страна, в которой находится университет\n",
    "2. Educational attainment \n",
    "    * country_name - страна\n",
    "    * series_name - среднее количество лет обучения; уровень образования в зависимости от половозрастной группы; плотность населения(Barro-Lee Dataset (2014)); среднее количесто лет обучения, доля населения в возрасте 25+ распределнных в зависимости от уровня образования (UNESCO Institute for Statistics; 152 страны; 1985-2015)\n",
    "    * 1985, 2015 - год\n",
    "    * Barro-Lee Dataset (2014) \n",
    "    * UNESCO Institute for Statistics (UIS)\n",
    "3. Education expenditure\n",
    "    * country - страна\n",
    "    * institute_type - тип образовательного учреждения(начальная, средняя школа, высшие учебные заведения)\n",
    "    * direct_expenditure_type - тип затрат на образование(государственные, частные или общие)\n",
    "    * 1995, 2011 - год"
   ]
  },
  {
   "cell_type": "markdown",
   "metadata": {},
   "source": [
    "Посмотрим на общие характеристики набора данных"
   ]
  },
  {
   "cell_type": "code",
   "execution_count": 4,
   "metadata": {
    "collapsed": false
   },
   "outputs": [
    {
     "name": "stdout",
     "output_type": "stream",
     "text": [
      "Times Higher Education World University Ranking\n",
      "Размерность составленного рейтинга: количество наблюдений 2603 ; количество переменных 14\n"
     ]
    },
    {
     "data": {
      "text/html": [
       "<div>\n",
       "<table border=\"1\" class=\"dataframe\">\n",
       "  <thead>\n",
       "    <tr style=\"text-align: right;\">\n",
       "      <th></th>\n",
       "      <th>count</th>\n",
       "      <th>mean</th>\n",
       "      <th>std</th>\n",
       "      <th>min</th>\n",
       "      <th>25%</th>\n",
       "      <th>50%</th>\n",
       "      <th>75%</th>\n",
       "      <th>max</th>\n",
       "    </tr>\n",
       "  </thead>\n",
       "  <tbody>\n",
       "    <tr>\n",
       "      <th>teaching</th>\n",
       "      <td>2603</td>\n",
       "      <td>37.801498</td>\n",
       "      <td>17.604218</td>\n",
       "      <td>9.9</td>\n",
       "      <td>24.700</td>\n",
       "      <td>33.9</td>\n",
       "      <td>46.40</td>\n",
       "      <td>99.7</td>\n",
       "    </tr>\n",
       "    <tr>\n",
       "      <th>research</th>\n",
       "      <td>2603</td>\n",
       "      <td>35.910257</td>\n",
       "      <td>21.254805</td>\n",
       "      <td>2.9</td>\n",
       "      <td>19.600</td>\n",
       "      <td>30.5</td>\n",
       "      <td>47.25</td>\n",
       "      <td>99.4</td>\n",
       "    </tr>\n",
       "    <tr>\n",
       "      <th>citations</th>\n",
       "      <td>2603</td>\n",
       "      <td>60.921629</td>\n",
       "      <td>23.073219</td>\n",
       "      <td>1.2</td>\n",
       "      <td>45.500</td>\n",
       "      <td>62.5</td>\n",
       "      <td>79.05</td>\n",
       "      <td>100.0</td>\n",
       "    </tr>\n",
       "    <tr>\n",
       "      <th>student_staff_ratio</th>\n",
       "      <td>2544</td>\n",
       "      <td>18.445283</td>\n",
       "      <td>11.458698</td>\n",
       "      <td>0.6</td>\n",
       "      <td>11.975</td>\n",
       "      <td>16.1</td>\n",
       "      <td>21.50</td>\n",
       "      <td>162.6</td>\n",
       "    </tr>\n",
       "    <tr>\n",
       "      <th>year</th>\n",
       "      <td>2603</td>\n",
       "      <td>2014.075682</td>\n",
       "      <td>1.685733</td>\n",
       "      <td>2011.0</td>\n",
       "      <td>2013.000</td>\n",
       "      <td>2014.0</td>\n",
       "      <td>2016.00</td>\n",
       "      <td>2016.0</td>\n",
       "    </tr>\n",
       "  </tbody>\n",
       "</table>\n",
       "</div>"
      ],
      "text/plain": [
       "                     count         mean        std     min       25%     50%  \\\n",
       "teaching              2603    37.801498  17.604218     9.9    24.700    33.9   \n",
       "research              2603    35.910257  21.254805     2.9    19.600    30.5   \n",
       "citations             2603    60.921629  23.073219     1.2    45.500    62.5   \n",
       "student_staff_ratio   2544    18.445283  11.458698     0.6    11.975    16.1   \n",
       "year                  2603  2014.075682   1.685733  2011.0  2013.000  2014.0   \n",
       "\n",
       "                         75%     max  \n",
       "teaching               46.40    99.7  \n",
       "research               47.25    99.4  \n",
       "citations              79.05   100.0  \n",
       "student_staff_ratio    21.50   162.6  \n",
       "year                 2016.00  2016.0  "
      ]
     },
     "execution_count": 4,
     "metadata": {},
     "output_type": "execute_result"
    }
   ],
   "source": [
    "print('Times Higher Education World University Ranking')\n",
    "shape = df1.shape\n",
    "print('Размерность составленного рейтинга:','количество наблюдений', shape[0], ';', 'количество переменных', shape[1])\n",
    "df1.describe().T   "
   ]
  },
  {
   "cell_type": "code",
   "execution_count": 5,
   "metadata": {
    "collapsed": false
   },
   "outputs": [
    {
     "name": "stdout",
     "output_type": "stream",
     "text": [
      "Academic Ranking of World Universities\n",
      "Размерность составленного рейтинга: количество наблюдений 4897 ; количество переменных 11\n"
     ]
    },
    {
     "data": {
      "text/html": [
       "<div>\n",
       "<table border=\"1\" class=\"dataframe\">\n",
       "  <thead>\n",
       "    <tr style=\"text-align: right;\">\n",
       "      <th></th>\n",
       "      <th>count</th>\n",
       "      <th>mean</th>\n",
       "      <th>std</th>\n",
       "      <th>min</th>\n",
       "      <th>25%</th>\n",
       "      <th>50%</th>\n",
       "      <th>75%</th>\n",
       "      <th>max</th>\n",
       "    </tr>\n",
       "  </thead>\n",
       "  <tbody>\n",
       "    <tr>\n",
       "      <th>total_score</th>\n",
       "      <td>1101</td>\n",
       "      <td>36.383470</td>\n",
       "      <td>13.557186</td>\n",
       "      <td>23.5</td>\n",
       "      <td>27.4</td>\n",
       "      <td>31.3</td>\n",
       "      <td>41.8</td>\n",
       "      <td>100</td>\n",
       "    </tr>\n",
       "    <tr>\n",
       "      <th>alumni</th>\n",
       "      <td>4896</td>\n",
       "      <td>9.161724</td>\n",
       "      <td>14.140636</td>\n",
       "      <td>0.0</td>\n",
       "      <td>0.0</td>\n",
       "      <td>0.0</td>\n",
       "      <td>15.6</td>\n",
       "      <td>100</td>\n",
       "    </tr>\n",
       "    <tr>\n",
       "      <th>award</th>\n",
       "      <td>4895</td>\n",
       "      <td>7.691910</td>\n",
       "      <td>15.494110</td>\n",
       "      <td>0.0</td>\n",
       "      <td>0.0</td>\n",
       "      <td>0.0</td>\n",
       "      <td>13.4</td>\n",
       "      <td>100</td>\n",
       "    </tr>\n",
       "    <tr>\n",
       "      <th>hici</th>\n",
       "      <td>4895</td>\n",
       "      <td>16.221491</td>\n",
       "      <td>14.382710</td>\n",
       "      <td>0.0</td>\n",
       "      <td>7.3</td>\n",
       "      <td>12.6</td>\n",
       "      <td>21.7</td>\n",
       "      <td>100</td>\n",
       "    </tr>\n",
       "    <tr>\n",
       "      <th>ns</th>\n",
       "      <td>4875</td>\n",
       "      <td>16.078503</td>\n",
       "      <td>12.511529</td>\n",
       "      <td>0.0</td>\n",
       "      <td>8.0</td>\n",
       "      <td>12.8</td>\n",
       "      <td>19.8</td>\n",
       "      <td>100</td>\n",
       "    </tr>\n",
       "    <tr>\n",
       "      <th>pub</th>\n",
       "      <td>4895</td>\n",
       "      <td>38.254648</td>\n",
       "      <td>13.050809</td>\n",
       "      <td>7.3</td>\n",
       "      <td>28.9</td>\n",
       "      <td>36.0</td>\n",
       "      <td>45.3</td>\n",
       "      <td>100</td>\n",
       "    </tr>\n",
       "    <tr>\n",
       "      <th>pcp</th>\n",
       "      <td>4895</td>\n",
       "      <td>21.242329</td>\n",
       "      <td>9.254351</td>\n",
       "      <td>8.3</td>\n",
       "      <td>15.6</td>\n",
       "      <td>19.0</td>\n",
       "      <td>24.5</td>\n",
       "      <td>100</td>\n",
       "    </tr>\n",
       "    <tr>\n",
       "      <th>year</th>\n",
       "      <td>4897</td>\n",
       "      <td>2009.658566</td>\n",
       "      <td>3.197576</td>\n",
       "      <td>2005.0</td>\n",
       "      <td>2007.0</td>\n",
       "      <td>2009.0</td>\n",
       "      <td>2012.0</td>\n",
       "      <td>2015</td>\n",
       "    </tr>\n",
       "  </tbody>\n",
       "</table>\n",
       "</div>"
      ],
      "text/plain": [
       "             count         mean        std     min     25%     50%     75%  \\\n",
       "total_score   1101    36.383470  13.557186    23.5    27.4    31.3    41.8   \n",
       "alumni        4896     9.161724  14.140636     0.0     0.0     0.0    15.6   \n",
       "award         4895     7.691910  15.494110     0.0     0.0     0.0    13.4   \n",
       "hici          4895    16.221491  14.382710     0.0     7.3    12.6    21.7   \n",
       "ns            4875    16.078503  12.511529     0.0     8.0    12.8    19.8   \n",
       "pub           4895    38.254648  13.050809     7.3    28.9    36.0    45.3   \n",
       "pcp           4895    21.242329   9.254351     8.3    15.6    19.0    24.5   \n",
       "year          4897  2009.658566   3.197576  2005.0  2007.0  2009.0  2012.0   \n",
       "\n",
       "              max  \n",
       "total_score   100  \n",
       "alumni        100  \n",
       "award         100  \n",
       "hici          100  \n",
       "ns            100  \n",
       "pub           100  \n",
       "pcp           100  \n",
       "year         2015  "
      ]
     },
     "execution_count": 5,
     "metadata": {},
     "output_type": "execute_result"
    }
   ],
   "source": [
    "print('Academic Ranking of World Universities')\n",
    "shape = df2.shape\n",
    "print('Размерность составленного рейтинга:','количество наблюдений', shape[0], ';', 'количество переменных', shape[1])\n",
    "df2.describe().T   "
   ]
  },
  {
   "cell_type": "code",
   "execution_count": 6,
   "metadata": {
    "collapsed": false,
    "scrolled": true
   },
   "outputs": [
    {
     "name": "stdout",
     "output_type": "stream",
     "text": [
      "Center for World University Rankings\n",
      "Размерность составленного рейтинга: количество наблюдений 2200 ; количество переменных 14\n"
     ]
    },
    {
     "data": {
      "text/html": [
       "<div>\n",
       "<table border=\"1\" class=\"dataframe\">\n",
       "  <thead>\n",
       "    <tr style=\"text-align: right;\">\n",
       "      <th></th>\n",
       "      <th>count</th>\n",
       "      <th>mean</th>\n",
       "      <th>std</th>\n",
       "      <th>min</th>\n",
       "      <th>25%</th>\n",
       "      <th>50%</th>\n",
       "      <th>75%</th>\n",
       "      <th>max</th>\n",
       "    </tr>\n",
       "  </thead>\n",
       "  <tbody>\n",
       "    <tr>\n",
       "      <th>world_rank</th>\n",
       "      <td>2200</td>\n",
       "      <td>459.590909</td>\n",
       "      <td>304.320363</td>\n",
       "      <td>1.00</td>\n",
       "      <td>175.75</td>\n",
       "      <td>450.5</td>\n",
       "      <td>725.250</td>\n",
       "      <td>1000</td>\n",
       "    </tr>\n",
       "    <tr>\n",
       "      <th>national_rank</th>\n",
       "      <td>2200</td>\n",
       "      <td>40.278182</td>\n",
       "      <td>51.740870</td>\n",
       "      <td>1.00</td>\n",
       "      <td>6.00</td>\n",
       "      <td>21.0</td>\n",
       "      <td>49.000</td>\n",
       "      <td>229</td>\n",
       "    </tr>\n",
       "    <tr>\n",
       "      <th>quality_of_education</th>\n",
       "      <td>2200</td>\n",
       "      <td>275.100455</td>\n",
       "      <td>121.935100</td>\n",
       "      <td>1.00</td>\n",
       "      <td>175.75</td>\n",
       "      <td>355.0</td>\n",
       "      <td>367.000</td>\n",
       "      <td>367</td>\n",
       "    </tr>\n",
       "    <tr>\n",
       "      <th>alumni_employment</th>\n",
       "      <td>2200</td>\n",
       "      <td>357.116818</td>\n",
       "      <td>186.779252</td>\n",
       "      <td>1.00</td>\n",
       "      <td>175.75</td>\n",
       "      <td>450.5</td>\n",
       "      <td>478.000</td>\n",
       "      <td>567</td>\n",
       "    </tr>\n",
       "    <tr>\n",
       "      <th>quality_of_faculty</th>\n",
       "      <td>2200</td>\n",
       "      <td>178.888182</td>\n",
       "      <td>64.050885</td>\n",
       "      <td>1.00</td>\n",
       "      <td>175.75</td>\n",
       "      <td>210.0</td>\n",
       "      <td>218.000</td>\n",
       "      <td>218</td>\n",
       "    </tr>\n",
       "    <tr>\n",
       "      <th>publications</th>\n",
       "      <td>2200</td>\n",
       "      <td>459.908636</td>\n",
       "      <td>303.760352</td>\n",
       "      <td>1.00</td>\n",
       "      <td>175.75</td>\n",
       "      <td>450.5</td>\n",
       "      <td>725.000</td>\n",
       "      <td>1000</td>\n",
       "    </tr>\n",
       "    <tr>\n",
       "      <th>influence</th>\n",
       "      <td>2200</td>\n",
       "      <td>459.797727</td>\n",
       "      <td>303.331822</td>\n",
       "      <td>1.00</td>\n",
       "      <td>175.75</td>\n",
       "      <td>450.5</td>\n",
       "      <td>725.250</td>\n",
       "      <td>991</td>\n",
       "    </tr>\n",
       "    <tr>\n",
       "      <th>citations</th>\n",
       "      <td>2200</td>\n",
       "      <td>413.417273</td>\n",
       "      <td>264.366549</td>\n",
       "      <td>1.00</td>\n",
       "      <td>161.00</td>\n",
       "      <td>406.0</td>\n",
       "      <td>645.000</td>\n",
       "      <td>812</td>\n",
       "    </tr>\n",
       "    <tr>\n",
       "      <th>broad_impact</th>\n",
       "      <td>2000</td>\n",
       "      <td>496.699500</td>\n",
       "      <td>286.919755</td>\n",
       "      <td>1.00</td>\n",
       "      <td>250.50</td>\n",
       "      <td>496.0</td>\n",
       "      <td>741.000</td>\n",
       "      <td>1000</td>\n",
       "    </tr>\n",
       "    <tr>\n",
       "      <th>patents</th>\n",
       "      <td>2200</td>\n",
       "      <td>433.346364</td>\n",
       "      <td>273.996525</td>\n",
       "      <td>1.00</td>\n",
       "      <td>170.75</td>\n",
       "      <td>426.0</td>\n",
       "      <td>714.250</td>\n",
       "      <td>871</td>\n",
       "    </tr>\n",
       "    <tr>\n",
       "      <th>score</th>\n",
       "      <td>2200</td>\n",
       "      <td>47.798395</td>\n",
       "      <td>7.760806</td>\n",
       "      <td>43.36</td>\n",
       "      <td>44.46</td>\n",
       "      <td>45.1</td>\n",
       "      <td>47.545</td>\n",
       "      <td>100</td>\n",
       "    </tr>\n",
       "    <tr>\n",
       "      <th>year</th>\n",
       "      <td>2200</td>\n",
       "      <td>2014.318182</td>\n",
       "      <td>0.762130</td>\n",
       "      <td>2012.00</td>\n",
       "      <td>2014.00</td>\n",
       "      <td>2014.0</td>\n",
       "      <td>2015.000</td>\n",
       "      <td>2015</td>\n",
       "    </tr>\n",
       "  </tbody>\n",
       "</table>\n",
       "</div>"
      ],
      "text/plain": [
       "                      count         mean         std      min      25%  \\\n",
       "world_rank             2200   459.590909  304.320363     1.00   175.75   \n",
       "national_rank          2200    40.278182   51.740870     1.00     6.00   \n",
       "quality_of_education   2200   275.100455  121.935100     1.00   175.75   \n",
       "alumni_employment      2200   357.116818  186.779252     1.00   175.75   \n",
       "quality_of_faculty     2200   178.888182   64.050885     1.00   175.75   \n",
       "publications           2200   459.908636  303.760352     1.00   175.75   \n",
       "influence              2200   459.797727  303.331822     1.00   175.75   \n",
       "citations              2200   413.417273  264.366549     1.00   161.00   \n",
       "broad_impact           2000   496.699500  286.919755     1.00   250.50   \n",
       "patents                2200   433.346364  273.996525     1.00   170.75   \n",
       "score                  2200    47.798395    7.760806    43.36    44.46   \n",
       "year                   2200  2014.318182    0.762130  2012.00  2014.00   \n",
       "\n",
       "                         50%       75%   max  \n",
       "world_rank             450.5   725.250  1000  \n",
       "national_rank           21.0    49.000   229  \n",
       "quality_of_education   355.0   367.000   367  \n",
       "alumni_employment      450.5   478.000   567  \n",
       "quality_of_faculty     210.0   218.000   218  \n",
       "publications           450.5   725.000  1000  \n",
       "influence              450.5   725.250   991  \n",
       "citations              406.0   645.000   812  \n",
       "broad_impact           496.0   741.000  1000  \n",
       "patents                426.0   714.250   871  \n",
       "score                   45.1    47.545   100  \n",
       "year                  2014.0  2015.000  2015  "
      ]
     },
     "execution_count": 6,
     "metadata": {},
     "output_type": "execute_result"
    }
   ],
   "source": [
    "print('Center for World University Rankings')\n",
    "shape = df3.shape\n",
    "print('Размерность составленного рейтинга:','количество наблюдений', shape[0], ';', 'количество переменных', shape[1])\n",
    "df3.describe().T   "
   ]
  },
  {
   "cell_type": "code",
   "execution_count": 7,
   "metadata": {
    "collapsed": false
   },
   "outputs": [
    {
     "name": "stdout",
     "output_type": "stream",
     "text": [
      "School and Country\n",
      "Размерность составленного рейтинга: количество наблюдений 818 ; количество переменных 2\n"
     ]
    },
    {
     "data": {
      "text/html": [
       "<div>\n",
       "<table border=\"1\" class=\"dataframe\">\n",
       "  <thead>\n",
       "    <tr style=\"text-align: right;\">\n",
       "      <th></th>\n",
       "      <th>count</th>\n",
       "      <th>unique</th>\n",
       "      <th>top</th>\n",
       "      <th>freq</th>\n",
       "    </tr>\n",
       "  </thead>\n",
       "  <tbody>\n",
       "    <tr>\n",
       "      <th>school_name</th>\n",
       "      <td>818</td>\n",
       "      <td>818</td>\n",
       "      <td>Federal University of Paraná (UFPR)</td>\n",
       "      <td>1</td>\n",
       "    </tr>\n",
       "    <tr>\n",
       "      <th>country</th>\n",
       "      <td>818</td>\n",
       "      <td>70</td>\n",
       "      <td>United States of America</td>\n",
       "      <td>161</td>\n",
       "    </tr>\n",
       "  </tbody>\n",
       "</table>\n",
       "</div>"
      ],
      "text/plain": [
       "            count unique                                  top freq\n",
       "school_name   818    818  Federal University of Paraná (UFPR)    1\n",
       "country       818     70             United States of America  161"
      ]
     },
     "execution_count": 7,
     "metadata": {},
     "output_type": "execute_result"
    }
   ],
   "source": [
    "print('School and Country')\n",
    "shape = school_country.shape\n",
    "print('Размерность составленного рейтинга:','количество наблюдений', shape[0], ';', 'количество переменных', shape[1])\n",
    "school_country.describe().T   "
   ]
  },
  {
   "cell_type": "code",
   "execution_count": 8,
   "metadata": {
    "collapsed": false,
    "scrolled": true
   },
   "outputs": [
    {
     "name": "stdout",
     "output_type": "stream",
     "text": [
      "Educational attainment\n",
      "Размерность составленного рейтинга: количество наблюдений 79055 ; количество переменных 29\n",
      "Размерность составленного рейтинга 2005-2015: количество наблюдений 79055 ; количество переменных 12\n"
     ]
    },
    {
     "data": {
      "text/html": [
       "<div>\n",
       "<table border=\"1\" class=\"dataframe\">\n",
       "  <thead>\n",
       "    <tr style=\"text-align: right;\">\n",
       "      <th></th>\n",
       "      <th>count</th>\n",
       "      <th>mean</th>\n",
       "      <th>std</th>\n",
       "      <th>min</th>\n",
       "      <th>25%</th>\n",
       "      <th>50%</th>\n",
       "      <th>75%</th>\n",
       "      <th>max</th>\n",
       "    </tr>\n",
       "  </thead>\n",
       "  <tbody>\n",
       "    <tr>\n",
       "      <th>2005</th>\n",
       "      <td>52037</td>\n",
       "      <td>363.519873</td>\n",
       "      <td>8563.497493</td>\n",
       "      <td>0.00000</td>\n",
       "      <td>1.930000</td>\n",
       "      <td>7.250000</td>\n",
       "      <td>26.410000</td>\n",
       "      <td>1034076.00000</td>\n",
       "    </tr>\n",
       "    <tr>\n",
       "      <th>2006</th>\n",
       "      <td>204</td>\n",
       "      <td>13.172861</td>\n",
       "      <td>14.756343</td>\n",
       "      <td>0.12933</td>\n",
       "      <td>5.855385</td>\n",
       "      <td>8.623460</td>\n",
       "      <td>15.203413</td>\n",
       "      <td>93.68704</td>\n",
       "    </tr>\n",
       "    <tr>\n",
       "      <th>2007</th>\n",
       "      <td>286</td>\n",
       "      <td>16.073780</td>\n",
       "      <td>22.696642</td>\n",
       "      <td>0.00000</td>\n",
       "      <td>3.057243</td>\n",
       "      <td>9.234600</td>\n",
       "      <td>16.020193</td>\n",
       "      <td>99.99305</td>\n",
       "    </tr>\n",
       "    <tr>\n",
       "      <th>2008</th>\n",
       "      <td>366</td>\n",
       "      <td>14.849021</td>\n",
       "      <td>17.947568</td>\n",
       "      <td>0.00000</td>\n",
       "      <td>5.408055</td>\n",
       "      <td>9.460645</td>\n",
       "      <td>14.590020</td>\n",
       "      <td>97.70276</td>\n",
       "    </tr>\n",
       "    <tr>\n",
       "      <th>2009</th>\n",
       "      <td>464</td>\n",
       "      <td>17.527544</td>\n",
       "      <td>22.434285</td>\n",
       "      <td>0.00000</td>\n",
       "      <td>4.462345</td>\n",
       "      <td>10.165165</td>\n",
       "      <td>17.457817</td>\n",
       "      <td>98.72121</td>\n",
       "    </tr>\n",
       "    <tr>\n",
       "      <th>2010</th>\n",
       "      <td>52796</td>\n",
       "      <td>386.641842</td>\n",
       "      <td>9146.338286</td>\n",
       "      <td>0.00000</td>\n",
       "      <td>2.010000</td>\n",
       "      <td>7.470000</td>\n",
       "      <td>27.000000</td>\n",
       "      <td>1090693.00000</td>\n",
       "    </tr>\n",
       "    <tr>\n",
       "      <th>2011</th>\n",
       "      <td>929</td>\n",
       "      <td>20.351652</td>\n",
       "      <td>25.186301</td>\n",
       "      <td>0.00000</td>\n",
       "      <td>2.743710</td>\n",
       "      <td>10.797220</td>\n",
       "      <td>25.529380</td>\n",
       "      <td>99.52137</td>\n",
       "    </tr>\n",
       "    <tr>\n",
       "      <th>2012</th>\n",
       "      <td>1106</td>\n",
       "      <td>19.483375</td>\n",
       "      <td>24.036373</td>\n",
       "      <td>0.00000</td>\n",
       "      <td>1.498103</td>\n",
       "      <td>10.602820</td>\n",
       "      <td>26.929520</td>\n",
       "      <td>98.67698</td>\n",
       "    </tr>\n",
       "    <tr>\n",
       "      <th>2013</th>\n",
       "      <td>1879</td>\n",
       "      <td>23.113742</td>\n",
       "      <td>28.481772</td>\n",
       "      <td>0.00000</td>\n",
       "      <td>1.050885</td>\n",
       "      <td>11.875010</td>\n",
       "      <td>31.535075</td>\n",
       "      <td>100.00000</td>\n",
       "    </tr>\n",
       "    <tr>\n",
       "      <th>2015</th>\n",
       "      <td>0</td>\n",
       "      <td>NaN</td>\n",
       "      <td>NaN</td>\n",
       "      <td>NaN</td>\n",
       "      <td>NaN</td>\n",
       "      <td>NaN</td>\n",
       "      <td>NaN</td>\n",
       "      <td>NaN</td>\n",
       "    </tr>\n",
       "  </tbody>\n",
       "</table>\n",
       "</div>"
      ],
      "text/plain": [
       "      count        mean          std      min       25%        50%        75%  \\\n",
       "2005  52037  363.519873  8563.497493  0.00000  1.930000   7.250000  26.410000   \n",
       "2006    204   13.172861    14.756343  0.12933  5.855385   8.623460  15.203413   \n",
       "2007    286   16.073780    22.696642  0.00000  3.057243   9.234600  16.020193   \n",
       "2008    366   14.849021    17.947568  0.00000  5.408055   9.460645  14.590020   \n",
       "2009    464   17.527544    22.434285  0.00000  4.462345  10.165165  17.457817   \n",
       "2010  52796  386.641842  9146.338286  0.00000  2.010000   7.470000  27.000000   \n",
       "2011    929   20.351652    25.186301  0.00000  2.743710  10.797220  25.529380   \n",
       "2012   1106   19.483375    24.036373  0.00000  1.498103  10.602820  26.929520   \n",
       "2013   1879   23.113742    28.481772  0.00000  1.050885  11.875010  31.535075   \n",
       "2015      0         NaN          NaN      NaN       NaN        NaN        NaN   \n",
       "\n",
       "                max  \n",
       "2005  1034076.00000  \n",
       "2006       93.68704  \n",
       "2007       99.99305  \n",
       "2008       97.70276  \n",
       "2009       98.72121  \n",
       "2010  1090693.00000  \n",
       "2011       99.52137  \n",
       "2012       98.67698  \n",
       "2013      100.00000  \n",
       "2015            NaN  "
      ]
     },
     "execution_count": 8,
     "metadata": {},
     "output_type": "execute_result"
    }
   ],
   "source": [
    "# Educational attainment охватывает промежуток с 1985-2015, так как рейтинги охватывают промежуток с 2005 по 2016\n",
    "# выведем данные за период с 2005-2015\n",
    "print('Educational attainment')\n",
    "attain_sup_2005_2015 = attain_sup.iloc[:,[0,1,19,20,21,22,23,24,25,26,27,28]]\n",
    "shape_0 = attain_sup.shape\n",
    "shape = attain_sup_2005_2015.shape\n",
    "print('Размерность составленного рейтинга:','количество наблюдений', shape_0[0], ';', 'количество переменных', shape_0[1])\n",
    "print('Размерность составленного рейтинга 2005-2015:','количество наблюдений', shape[0], ';', 'количество переменных', shape[1])\n",
    "attain_sup_2005_2015.describe().T   "
   ]
  },
  {
   "cell_type": "code",
   "execution_count": 9,
   "metadata": {
    "collapsed": false
   },
   "outputs": [
    {
     "name": "stdout",
     "output_type": "stream",
     "text": [
      "Education expenditure\n",
      "Размерность составленного рейтинга: количество наблюдений 333 ; количество переменных 9\n"
     ]
    },
    {
     "data": {
      "text/html": [
       "<div>\n",
       "<table border=\"1\" class=\"dataframe\">\n",
       "  <thead>\n",
       "    <tr style=\"text-align: right;\">\n",
       "      <th></th>\n",
       "      <th>count</th>\n",
       "      <th>mean</th>\n",
       "      <th>std</th>\n",
       "      <th>min</th>\n",
       "      <th>25%</th>\n",
       "      <th>50%</th>\n",
       "      <th>75%</th>\n",
       "      <th>max</th>\n",
       "    </tr>\n",
       "  </thead>\n",
       "  <tbody>\n",
       "    <tr>\n",
       "      <th>1995</th>\n",
       "      <td>94</td>\n",
       "      <td>3.106383</td>\n",
       "      <td>1.790465</td>\n",
       "      <td>0.1</td>\n",
       "      <td>1.10</td>\n",
       "      <td>3.40</td>\n",
       "      <td>4.50</td>\n",
       "      <td>6.8</td>\n",
       "    </tr>\n",
       "    <tr>\n",
       "      <th>2000</th>\n",
       "      <td>99</td>\n",
       "      <td>3.062626</td>\n",
       "      <td>1.725475</td>\n",
       "      <td>0.5</td>\n",
       "      <td>1.20</td>\n",
       "      <td>3.30</td>\n",
       "      <td>4.35</td>\n",
       "      <td>6.6</td>\n",
       "    </tr>\n",
       "    <tr>\n",
       "      <th>2005</th>\n",
       "      <td>106</td>\n",
       "      <td>3.142453</td>\n",
       "      <td>1.752329</td>\n",
       "      <td>0.3</td>\n",
       "      <td>1.20</td>\n",
       "      <td>3.45</td>\n",
       "      <td>4.30</td>\n",
       "      <td>7.2</td>\n",
       "    </tr>\n",
       "    <tr>\n",
       "      <th>2009</th>\n",
       "      <td>103</td>\n",
       "      <td>3.388350</td>\n",
       "      <td>1.869534</td>\n",
       "      <td>0.3</td>\n",
       "      <td>1.35</td>\n",
       "      <td>3.70</td>\n",
       "      <td>4.85</td>\n",
       "      <td>7.5</td>\n",
       "    </tr>\n",
       "    <tr>\n",
       "      <th>2010</th>\n",
       "      <td>101</td>\n",
       "      <td>3.392079</td>\n",
       "      <td>1.883119</td>\n",
       "      <td>0.5</td>\n",
       "      <td>1.30</td>\n",
       "      <td>3.60</td>\n",
       "      <td>4.80</td>\n",
       "      <td>7.6</td>\n",
       "    </tr>\n",
       "    <tr>\n",
       "      <th>2011</th>\n",
       "      <td>282</td>\n",
       "      <td>2.573050</td>\n",
       "      <td>2.130673</td>\n",
       "      <td>0.0</td>\n",
       "      <td>0.70</td>\n",
       "      <td>1.75</td>\n",
       "      <td>4.30</td>\n",
       "      <td>7.9</td>\n",
       "    </tr>\n",
       "  </tbody>\n",
       "</table>\n",
       "</div>"
      ],
      "text/plain": [
       "      count      mean       std  min   25%   50%   75%  max\n",
       "1995     94  3.106383  1.790465  0.1  1.10  3.40  4.50  6.8\n",
       "2000     99  3.062626  1.725475  0.5  1.20  3.30  4.35  6.6\n",
       "2005    106  3.142453  1.752329  0.3  1.20  3.45  4.30  7.2\n",
       "2009    103  3.388350  1.869534  0.3  1.35  3.70  4.85  7.5\n",
       "2010    101  3.392079  1.883119  0.5  1.30  3.60  4.80  7.6\n",
       "2011    282  2.573050  2.130673  0.0  0.70  1.75  4.30  7.9"
      ]
     },
     "execution_count": 9,
     "metadata": {},
     "output_type": "execute_result"
    }
   ],
   "source": [
    "print('Education expenditure')\n",
    "shape = expend_sup.shape\n",
    "print('Размерность составленного рейтинга:','количество наблюдений', shape[0], ';', 'количество переменных', shape[1])\n",
    "expend_sup.describe().T   "
   ]
  },
  {
   "cell_type": "markdown",
   "metadata": {},
   "source": [
    "Помимо этого, можно посмотреть попарную визуализацию всех признаков любой из представленных баз данных.\n",
    "Так как использование данного пакета предполагает отсутствие пропущенных значений в базе данных, удалим все пропущенные значения из первого рейтинга (Times) и визуализируем их, аналогично использование этого метода и на других данных"
   ]
  },
  {
   "cell_type": "markdown",
   "metadata": {},
   "source": [
    "Так как данные охватывают периоды не в один год, посмотрим, какие периоды представлены в рейтингах и сколько наблюдений (университетов) было включено в рейтинг в каждый год "
   ]
  },
  {
   "cell_type": "code",
   "execution_count": 10,
   "metadata": {
    "collapsed": false,
    "scrolled": true
   },
   "outputs": [
    {
     "name": "stdout",
     "output_type": "stream",
     "text": [
      "Times Higher Education World University Ranking\n",
      "2016    800\n",
      "2012    402\n",
      "2015    401\n",
      "2013    400\n",
      "2014    400\n",
      "2011    200\n",
      "Name: year, dtype: int64\n",
      "\n",
      "\n",
      "Academic Ranking of World Universities\n",
      "2007    510\n",
      "2008    503\n",
      "2009    501\n",
      "2015    500\n",
      "2011    500\n",
      "2014    500\n",
      "2010    500\n",
      "2006    500\n",
      "2005    500\n",
      "2012    284\n",
      "2013     99\n",
      "Name: year, dtype: int64\n",
      "\n",
      "\n",
      "Center for World University Rankings\n",
      "2015    1000\n",
      "2014    1000\n",
      "2013     100\n",
      "2012     100\n",
      "Name: year, dtype: int64\n",
      "\n",
      "\n"
     ]
    }
   ],
   "source": [
    "for i in range(len(df)):\n",
    "    a = (df[i])['year'].value_counts()\n",
    "    print(names_rank[i])\n",
    "    print(a)\n",
    "    print('\\n')"
   ]
  },
  {
   "cell_type": "markdown",
   "metadata": {},
   "source": [
    "В результате, мы получили, что рейтинги возможно сравнить друг с другом в период с 2012-2015 года, поэтому будем использовать этот временной промежуток при сравнении рейтингов."
   ]
  },
  {
   "cell_type": "code",
   "execution_count": 11,
   "metadata": {
    "collapsed": true
   },
   "outputs": [],
   "source": [
    "years = [2012, 2013, 2014, 2015] "
   ]
  },
  {
   "cell_type": "markdown",
   "metadata": {},
   "source": [
    "Построим распределение **total score** для всех рейтингов в одни и те же периоды:"
   ]
  },
  {
   "cell_type": "code",
   "execution_count": 13,
   "metadata": {
    "collapsed": true
   },
   "outputs": [],
   "source": [
    "df1 = df1[df1.total_score != '-']"
   ]
  },
  {
   "cell_type": "code",
   "execution_count": 15,
   "metadata": {
    "collapsed": false
   },
   "outputs": [
    {
     "data": {
      "image/png": "[encoded data removed]",
      "text/plain": [
       "<matplotlib.figure.Figure at 0x253970ab128>"
      ]
     },
     "metadata": {},
     "output_type": "display_data"
    }
   ],
   "source": [
    "f,a = plt.subplots(2,2, figsize=(20,15))\n",
    "a = a.ravel()\n",
    "for i,ax in enumerate(a):\n",
    "    ax.hist(df1[df1['year'] == years[i]]['total_score'].astype(float).values)\n",
    "    ax.set_title(\"total_score for Times Higher Education World University Ranking distribution in %s\" % years[i])\n"
   ]
  },
  {
   "cell_type": "code",
   "execution_count": 16,
   "metadata": {
    "collapsed": false
   },
   "outputs": [
    {
     "data": {
      "image/png": "[encoded data removed]",
      "text/plain": [
       "<matplotlib.figure.Figure at 0x25396904320>"
      ]
     },
     "metadata": {},
     "output_type": "display_data"
    }
   ],
   "source": [
    "f,a = plt.subplots(2,2, figsize=(20,15))\n",
    "a = a.ravel()\n",
    "for i,ax in enumerate(a):\n",
    "    x = df2[df2['year'] == years[i]]['total_score'].astype(float).values\n",
    "    x = x[~np.isnan(x)]\n",
    "    ax.hist(x)\n",
    "    ax.set_title(\"Distribution of total_score for Academic Ranking of World Universities in %s\" % years[i])"
   ]
  },
  {
   "cell_type": "code",
   "execution_count": 17,
   "metadata": {
    "collapsed": false
   },
   "outputs": [
    {
     "data": {
      "image/png": "[encoded data removed]",
      "text/plain": [
       "<matplotlib.figure.Figure at 0x25396a27518>"
      ]
     },
     "metadata": {},
     "output_type": "display_data"
    }
   ],
   "source": [
    "f,a = plt.subplots(2,2, figsize=(20,15))\n",
    "a = a.ravel()\n",
    "for i,ax in enumerate(a):\n",
    "    ax.hist(df3[df3['year'] == years[i]]['score'].astype(float).values)\n",
    "    ax.set_title(\"distribution of total_score for Center for World University Rankings in %s\" % years[i])"
   ]
  },
  {
   "cell_type": "code",
   "execution_count": 18,
   "metadata": {
    "collapsed": true
   },
   "outputs": [],
   "source": [
    "df2['country'] = ['0']*len(df2)"
   ]
  },
  {
   "cell_type": "markdown",
   "metadata": {},
   "source": [
    "Во втором рейтиге отсутствует переменная country. С помощью таблицы school and country постараемся восстановить страну для каждого университета. В тех ячейках, для которых не получилось восстановить данные, поставим \"0\""
   ]
  },
  {
   "cell_type": "code",
   "execution_count": 19,
   "metadata": {
    "collapsed": false
   },
   "outputs": [
    {
     "data": {
      "text/html": [
       "<div>\n",
       "<table border=\"1\" class=\"dataframe\">\n",
       "  <thead>\n",
       "    <tr style=\"text-align: right;\">\n",
       "      <th></th>\n",
       "      <th>world_rank</th>\n",
       "      <th>university_name</th>\n",
       "      <th>national_rank</th>\n",
       "      <th>total_score</th>\n",
       "      <th>alumni</th>\n",
       "      <th>award</th>\n",
       "      <th>hici</th>\n",
       "      <th>ns</th>\n",
       "      <th>pub</th>\n",
       "      <th>pcp</th>\n",
       "      <th>year</th>\n",
       "      <th>country</th>\n",
       "    </tr>\n",
       "  </thead>\n",
       "  <tbody>\n",
       "    <tr>\n",
       "      <th>0</th>\n",
       "      <td>1</td>\n",
       "      <td>Harvard University</td>\n",
       "      <td>1</td>\n",
       "      <td>100.0</td>\n",
       "      <td>100.0</td>\n",
       "      <td>100.0</td>\n",
       "      <td>100.0</td>\n",
       "      <td>100.0</td>\n",
       "      <td>100.0</td>\n",
       "      <td>72.4</td>\n",
       "      <td>2005</td>\n",
       "      <td>United States of America</td>\n",
       "    </tr>\n",
       "    <tr>\n",
       "      <th>1</th>\n",
       "      <td>2</td>\n",
       "      <td>University of Cambridge</td>\n",
       "      <td>1</td>\n",
       "      <td>73.6</td>\n",
       "      <td>99.8</td>\n",
       "      <td>93.4</td>\n",
       "      <td>53.3</td>\n",
       "      <td>56.6</td>\n",
       "      <td>70.9</td>\n",
       "      <td>66.9</td>\n",
       "      <td>2005</td>\n",
       "      <td>United Kingdom</td>\n",
       "    </tr>\n",
       "    <tr>\n",
       "      <th>2</th>\n",
       "      <td>3</td>\n",
       "      <td>Stanford University</td>\n",
       "      <td>2</td>\n",
       "      <td>73.4</td>\n",
       "      <td>41.1</td>\n",
       "      <td>72.2</td>\n",
       "      <td>88.5</td>\n",
       "      <td>70.9</td>\n",
       "      <td>72.3</td>\n",
       "      <td>65.0</td>\n",
       "      <td>2005</td>\n",
       "      <td>United States of America</td>\n",
       "    </tr>\n",
       "    <tr>\n",
       "      <th>3</th>\n",
       "      <td>4</td>\n",
       "      <td>University of California, Berkeley</td>\n",
       "      <td>3</td>\n",
       "      <td>72.8</td>\n",
       "      <td>71.8</td>\n",
       "      <td>76.0</td>\n",
       "      <td>69.4</td>\n",
       "      <td>73.9</td>\n",
       "      <td>72.2</td>\n",
       "      <td>52.7</td>\n",
       "      <td>2005</td>\n",
       "      <td>United States of America</td>\n",
       "    </tr>\n",
       "    <tr>\n",
       "      <th>4</th>\n",
       "      <td>5</td>\n",
       "      <td>Massachusetts Institute of Technology (MIT)</td>\n",
       "      <td>4</td>\n",
       "      <td>70.1</td>\n",
       "      <td>74.0</td>\n",
       "      <td>80.6</td>\n",
       "      <td>66.7</td>\n",
       "      <td>65.8</td>\n",
       "      <td>64.3</td>\n",
       "      <td>53.0</td>\n",
       "      <td>2005</td>\n",
       "      <td>0</td>\n",
       "    </tr>\n",
       "  </tbody>\n",
       "</table>\n",
       "</div>"
      ],
      "text/plain": [
       "  world_rank                              university_name national_rank  \\\n",
       "0          1                           Harvard University             1   \n",
       "1          2                      University of Cambridge             1   \n",
       "2          3                          Stanford University             2   \n",
       "3          4           University of California, Berkeley             3   \n",
       "4          5  Massachusetts Institute of Technology (MIT)             4   \n",
       "\n",
       "   total_score  alumni  award   hici     ns    pub   pcp  year  \\\n",
       "0        100.0   100.0  100.0  100.0  100.0  100.0  72.4  2005   \n",
       "1         73.6    99.8   93.4   53.3   56.6   70.9  66.9  2005   \n",
       "2         73.4    41.1   72.2   88.5   70.9   72.3  65.0  2005   \n",
       "3         72.8    71.8   76.0   69.4   73.9   72.2  52.7  2005   \n",
       "4         70.1    74.0   80.6   66.7   65.8   64.3  53.0  2005   \n",
       "\n",
       "                    country  \n",
       "0  United States of America  \n",
       "1            United Kingdom  \n",
       "2  United States of America  \n",
       "3  United States of America  \n",
       "4                         0  "
      ]
     },
     "execution_count": 19,
     "metadata": {},
     "output_type": "execute_result"
    }
   ],
   "source": [
    "for i in range(len(df2)):\n",
    "    if not school_country[school_country['school_name'] == df2.loc[i]['university_name']].empty:\n",
    "        df2.set_value(i, 'country', school_country[school_country['school_name'] == df2.loc[i]['university_name']]['country'].values[0])\n",
    "df2.head(5)"
   ]
  },
  {
   "cell_type": "markdown",
   "metadata": {},
   "source": [
    "Удалим из таблицы строки, в которых country имеет значение \"0\", затем построим распределение университетов из 2 рейтинга по странам:"
   ]
  },
  {
   "cell_type": "code",
   "execution_count": 20,
   "metadata": {
    "collapsed": false
   },
   "outputs": [],
   "source": [
    "df2fixed = df2[df2['country'] != '0'] "
   ]
  },
  {
   "cell_type": "code",
   "execution_count": 21,
   "metadata": {
    "collapsed": false
   },
   "outputs": [
    {
     "data": {
      "image/png": "[encoded data removed]",
      "text/plain": [
       "<matplotlib.figure.Figure at 0x2539752ffd0>"
      ]
     },
     "metadata": {},
     "output_type": "display_data"
    }
   ],
   "source": [
    "f,a = plt.subplots(2,2, figsize=(20,12))\n",
    "a = a.ravel()\n",
    "for i,ax in enumerate(a):\n",
    "    n = np.arange(len(df2fixed[df2fixed['year'] == years[i]]['country'].value_counts())) \n",
    "    ax.bar(n, df2fixed[df2fixed['year'] == years[i]]['country'].value_counts().values)\n",
    "    ax.set_xticks(n+0.4)\n",
    "    xtickNames = ax.set_xticklabels(df2fixed[df2fixed['year'] == years[i]]['country'].value_counts().index)\n",
    "    plt.setp(xtickNames, rotation = 90, fontsize = 10)\n",
    "    f.subplots_adjust(hspace=.5)\n",
    "    ax.set_title(\"Number of universities in Academic Ranking of World Universities in %s\" % years[i])"
   ]
  },
  {
   "cell_type": "code",
   "execution_count": 22,
   "metadata": {
    "collapsed": false
   },
   "outputs": [
    {
     "data": {
      "image/png": "[encoded data removed]",
      "text/plain": [
       "<matplotlib.figure.Figure at 0x25396948898>"
      ]
     },
     "metadata": {},
     "output_type": "display_data"
    }
   ],
   "source": [
    "f,a = plt.subplots(2,2, figsize=(20,12))\n",
    "a = a.ravel()\n",
    "for i,ax in enumerate(a):\n",
    "    n = np.arange(len(df1[df1['year'] == years[i]]['country'].value_counts())) \n",
    "    ax.bar(n, df1[df1['year'] == years[i]]['country'].value_counts().values)\n",
    "    ax.set_xticks(n+0.4)\n",
    "    xtickNames = ax.set_xticklabels(df1[df1['year'] == years[i]]['country'].value_counts().index)\n",
    "    plt.setp(xtickNames, rotation = 90, fontsize = 10)\n",
    "    f.subplots_adjust(hspace=.5)\n",
    "    ax.set_title(\"Number of universities in Times Higher Education World University Ranking in %s\" % years[i])"
   ]
  },
  {
   "cell_type": "markdown",
   "metadata": {},
   "source": [
    "Аналогично можно построить распределения по странам и для двух других оставшихся рейтингов, помимо этого можно посмотреть университеты каких стран входят в 100 лучших по всем рейтингам за период с 2012 по 2015 года"
   ]
  },
  {
   "cell_type": "code",
   "execution_count": 23,
   "metadata": {
    "collapsed": false
   },
   "outputs": [
    {
     "data": {
      "image/png": "[encoded data removed]",
      "text/plain": [
       "<matplotlib.figure.Figure at 0x253971fada0>"
      ]
     },
     "metadata": {},
     "output_type": "display_data"
    }
   ],
   "source": [
    "f,a = plt.subplots(2,2, figsize=(20,12))\n",
    "a = a.ravel()\n",
    "for i,ax in enumerate(a):\n",
    "    n = np.arange(len(df3[df3['year'] == years[i]]['country'].value_counts())) \n",
    "    ax.bar(n, df3[df3['year'] == years[i]]['country'].value_counts().values)\n",
    "    ax.set_xticks(n+0.4)\n",
    "    xtickNames = ax.set_xticklabels(df3[df3['year'] == years[i]]['country'].value_counts().index)\n",
    "    plt.setp(xtickNames, rotation = 90, fontsize = 10)\n",
    "    f.subplots_adjust(hspace=.5)\n",
    "    ax.set_title(\"Number of universities in Times Higher Education World University Ranking in %s\" % years[i])"
   ]
  },
  {
   "cell_type": "markdown",
   "metadata": {},
   "source": [
    "По количеству университетов, вошедших в международные рейтинги, лидирующими странами являются __США, Великобритания, Германия, Нидерланды, Япония, Канада__\n"
   ]
  },
  {
   "cell_type": "code",
   "execution_count": 24,
   "metadata": {
    "collapsed": false,
    "scrolled": true
   },
   "outputs": [
    {
     "name": "stdout",
     "output_type": "stream",
     "text": [
      "Missing values in Times Higher Education World University Ranking\n",
      "world_rank                  0\n",
      "university_name             0\n",
      "country                     0\n",
      "teaching                    0\n",
      "international               0\n",
      "research                    0\n",
      "citations                   0\n",
      "income                      0\n",
      "total_score                 0\n",
      "num_students               19\n",
      "student_staff_ratio        19\n",
      "international_students     20\n",
      "female_male_ratio         123\n",
      "year                        0\n",
      "dtype: int64\n",
      "\n",
      "\n",
      "Missing values in Academic Ranking of World Universities\n",
      "world_rank            0\n",
      "university_name       1\n",
      "national_rank         1\n",
      "total_score        3796\n",
      "alumni                1\n",
      "award                 2\n",
      "hici                  2\n",
      "ns                   22\n",
      "pub                   2\n",
      "pcp                   2\n",
      "year                  0\n",
      "country               0\n",
      "dtype: int64\n",
      "\n",
      "\n",
      "Missing values in Center for World University Rankings\n",
      "world_rank                0\n",
      "institution               0\n",
      "country                   0\n",
      "national_rank             0\n",
      "quality_of_education      0\n",
      "alumni_employment         0\n",
      "quality_of_faculty        0\n",
      "publications              0\n",
      "influence                 0\n",
      "citations                 0\n",
      "broad_impact            200\n",
      "patents                   0\n",
      "score                     0\n",
      "year                      0\n",
      "dtype: int64\n",
      "\n",
      "\n",
      "Missing values in Educational attainment\n",
      "country_name        3\n",
      "series_name         5\n",
      "1985            27212\n",
      "1986            79043\n",
      "1987            79052\n",
      "1990            27209\n",
      "1991            79054\n",
      "1992            79052\n",
      "1993            79054\n",
      "1995            27171\n",
      "1996            79052\n",
      "1997            79055\n",
      "1998            79008\n",
      "1999            79046\n",
      "2000            27085\n",
      "2001            78830\n",
      "2002            78871\n",
      "2003            79000\n",
      "2004            78918\n",
      "2005            27018\n",
      "2006            78851\n",
      "2007            78769\n",
      "2008            78689\n",
      "2009            78591\n",
      "2010            26259\n",
      "2011            78126\n",
      "2012            77949\n",
      "2013            77176\n",
      "2015            79055\n",
      "dtype: int64\n",
      "\n",
      "\n",
      "Missing values in Education expenditure\n",
      "country                      0\n",
      "institute_type               0\n",
      "direct_expenditure_type      0\n",
      "1995                       239\n",
      "2000                       234\n",
      "2005                       227\n",
      "2009                       230\n",
      "2010                       232\n",
      "2011                        51\n",
      "dtype: int64\n",
      "\n",
      "\n",
      "Missing values in School_Country\n",
      "school_name    0\n",
      "country        0\n",
      "dtype: int64\n",
      "\n",
      "\n"
     ]
    }
   ],
   "source": [
    "# определим количество пропущенных значений в данных\n",
    "df_non_all = [df1, df2, df3, attain_sup, expend_sup, school_country]\n",
    "names = ['Times Higher Education World University Ranking', 'Academic Ranking of World Universities', 'Center for World University Rankings','Educational attainment', 'Education expenditure','School_Country']\n",
    "# суммы пропущенных данных в строках\n",
    "for i in range(len(df_non_all)):\n",
    "    print ('Missing values in', names[i])\n",
    "    print(df_non_all[i].isnull().sum())\n",
    "    print('\\n')"
   ]
  },
  {
   "cell_type": "markdown",
   "metadata": {},
   "source": [
    "Наблюдается значительное сокращение числа университетов, включенных в рейтинги. В особенности это относится к рейтингу Center for World University Rankings, так как переменная broad_impact доступна только для 2014 и 2015. Для рейтинга Academic Ranking of World Universities, сокращение количеста университетов в основном связаны с отсутствием total_score начиная со 101 места\n"
   ]
  },
  {
   "cell_type": "markdown",
   "metadata": {},
   "source": [
    "В первом рейтинге было выявлено наличие \"-\", вместо пропущенных значений, так как несмотря на отсутствие значений по некоторым показателям, университетам все равно присваивался рейтинг, то будем анализировать превый рейтинг, опустив пропущенные значения."
   ]
  },
  {
   "cell_type": "code",
   "execution_count": 25,
   "metadata": {
    "collapsed": false
   },
   "outputs": [
    {
     "data": {
      "text/html": [
       "<div>\n",
       "<table border=\"1\" class=\"dataframe\">\n",
       "  <thead>\n",
       "    <tr style=\"text-align: right;\">\n",
       "      <th></th>\n",
       "      <th>world_rank</th>\n",
       "      <th>university_name</th>\n",
       "      <th>country</th>\n",
       "      <th>teaching</th>\n",
       "      <th>international</th>\n",
       "      <th>research</th>\n",
       "      <th>citations</th>\n",
       "      <th>income</th>\n",
       "      <th>total_score</th>\n",
       "      <th>num_students</th>\n",
       "      <th>student_staff_ratio</th>\n",
       "      <th>international_students</th>\n",
       "      <th>female_male_ratio</th>\n",
       "      <th>year</th>\n",
       "    </tr>\n",
       "  </thead>\n",
       "  <tbody>\n",
       "    <tr>\n",
       "      <th>4</th>\n",
       "      <td>5</td>\n",
       "      <td>Princeton University</td>\n",
       "      <td>United States of America</td>\n",
       "      <td>90.9</td>\n",
       "      <td>70.3</td>\n",
       "      <td>95.4</td>\n",
       "      <td>99.9</td>\n",
       "      <td>-</td>\n",
       "      <td>94.2</td>\n",
       "      <td>7,929</td>\n",
       "      <td>8.4</td>\n",
       "      <td>27%</td>\n",
       "      <td>45 : 55</td>\n",
       "      <td>2011</td>\n",
       "    </tr>\n",
       "  </tbody>\n",
       "</table>\n",
       "</div>"
      ],
      "text/plain": [
       "  world_rank       university_name                   country  teaching  \\\n",
       "4          5  Princeton University  United States of America      90.9   \n",
       "\n",
       "  international  research  citations income total_score num_students  \\\n",
       "4          70.3      95.4       99.9      -        94.2        7,929   \n",
       "\n",
       "   student_staff_ratio international_students female_male_ratio  year  \n",
       "4                  8.4                    27%           45 : 55  2011  "
      ]
     },
     "execution_count": 25,
     "metadata": {},
     "output_type": "execute_result"
    }
   ],
   "source": [
    "df1.iloc[4:5,:]"
   ]
  },
  {
   "cell_type": "code",
   "execution_count": 26,
   "metadata": {
    "collapsed": false
   },
   "outputs": [],
   "source": [
    "indx1 = df1[ df1['total_score']=='-'].total_score.index\n",
    "df1.ix[indx1,['total_score']] = np.nan\n",
    "df1.total_score = df1.total_score.astype(float)\n",
    "\n",
    "ind = df1[ df1['international']=='-'].international.index\n",
    "df1.ix[ind,['international']] = np.nan\n",
    "df1.international = df1.international.astype(float)\n",
    "\n",
    "indx = df1[ df1['income']=='-'].income.index\n",
    "df1.ix[indx,['income']] = np.nan\n",
    "df1.income = df1.income.astype(float)"
   ]
  },
  {
   "cell_type": "code",
   "execution_count": 27,
   "metadata": {
    "collapsed": true
   },
   "outputs": [],
   "source": [
    "# Так же отметим еще раз, что мы сравниваем данные за период с 2012 по 2014, поэтому выделим данные именно за выбранный промежуток\n",
    "DF1 = df1.iloc[200:,:]\n",
    "DF2 = df2.iloc[3514:,:]\n",
    "DF3 = df3"
   ]
  },
  {
   "cell_type": "markdown",
   "metadata": {},
   "source": [
    "Посмотрим на корреляционную зависимость total_score от всех детерминирующих переменных по каждому рейтингу, что позволит:\n",
    "\n",
    "1) Провести первичный анализ влияния факторов на формирование Total_Score и, соответственно, итогового места университета в рейтингах\n",
    "\n",
    "2) Выявить направление влияния факторов на формирование total_score, что необходимо при анализе возможной коллинеарности детерминант, опредиляющих Total_Score и место университета в рейтинге"
   ]
  },
  {
   "cell_type": "code",
   "execution_count": 28,
   "metadata": {
    "collapsed": false
   },
   "outputs": [
    {
     "data": {
      "text/html": [
       "<div>\n",
       "<table border=\"1\" class=\"dataframe\">\n",
       "  <thead>\n",
       "    <tr style=\"text-align: right;\">\n",
       "      <th></th>\n",
       "      <th>total_score</th>\n",
       "    </tr>\n",
       "  </thead>\n",
       "  <tbody>\n",
       "    <tr>\n",
       "      <th>teaching</th>\n",
       "      <td>0.904291</td>\n",
       "    </tr>\n",
       "    <tr>\n",
       "      <th>international</th>\n",
       "      <td>0.118382</td>\n",
       "    </tr>\n",
       "    <tr>\n",
       "      <th>research</th>\n",
       "      <td>0.912614</td>\n",
       "    </tr>\n",
       "    <tr>\n",
       "      <th>citations</th>\n",
       "      <td>0.529985</td>\n",
       "    </tr>\n",
       "    <tr>\n",
       "      <th>income</th>\n",
       "      <td>0.222885</td>\n",
       "    </tr>\n",
       "  </tbody>\n",
       "</table>\n",
       "</div>"
      ],
      "text/plain": [
       "               total_score\n",
       "teaching          0.904291\n",
       "international     0.118382\n",
       "research          0.912614\n",
       "citations         0.529985\n",
       "income            0.222885"
      ]
     },
     "execution_count": 28,
     "metadata": {},
     "output_type": "execute_result"
    }
   ],
   "source": [
    "# корреляция total_score для рейтинга Times Higher Education World University Ranking\n",
    "corr1 = DF1.corr(method = 'pearson', min_periods=1)\n",
    "corr1.iloc[:5,5:6]"
   ]
  },
  {
   "cell_type": "markdown",
   "metadata": {},
   "source": [
    "Все переменные имеют положительную корреляцию с total_score, при чем наиболее сильная взаимосвязь с переменными:\n",
    "* research (0.912614)\n",
    "* teaching (0.904291)"
   ]
  },
  {
   "cell_type": "code",
   "execution_count": 29,
   "metadata": {
    "collapsed": false
   },
   "outputs": [
    {
     "name": "stdout",
     "output_type": "stream",
     "text": [
      "research teaching 0.896439875864\n"
     ]
    }
   ],
   "source": [
    "# посмотрим на корреляцю между компонентами\n",
    "corr = DF1.corr(method = 'pearson', min_periods=1)\n",
    "corr11 = corr.iloc[0:5,0:5]\n",
    "corr_array = np.array(corr11)\n",
    "for i in range(len(corr11.columns)):\n",
    "    for j in range(len(corr11.columns)):\n",
    "        if i==j and corr_array[i][j] == 1:\n",
    "            corr_array[i][j] = 0\n",
    "        corr_array[i][j] = abs(corr_array[i][j])\n",
    "unique = np.unique(corr_array)\n",
    "sort = unique[::-1]\n",
    "ans = []\n",
    "a = corr11.columns\n",
    "b = corr11.index\n",
    "for n in sort:\n",
    "    if n >= 0.8: # будем считать, что корреляция между компонентами > 0.8, будет считаться недопустимой, выведем пары \n",
    "        ans.append(n)\n",
    "for i in range(len(corr11.columns)):\n",
    "    for j in range(i+1):\n",
    "        for _ in range(len(ans)):\n",
    "            if abs(corr_array[i][j]) == ans[_]:\n",
    "                print(a[i], b[j], corr_array[i][j])\n"
   ]
  },
  {
   "cell_type": "markdown",
   "metadata": {},
   "source": [
    "так как обе переменные имеют положительное влияние на __total_score__, и переменная __research__ болле взаимосвязана с ней, то возможным является удаление переменной __teaching__"
   ]
  },
  {
   "cell_type": "code",
   "execution_count": 241,
   "metadata": {
    "collapsed": true
   },
   "outputs": [],
   "source": [
    "#оставим исследуемые признаки\n",
    "DF_1 = DF1.dropna(how='any')\n",
    "df1_X = DF_1.loc[:,['research','international','citations','income']]\n",
    "df1_y = DF_1.iloc[:,8:9]"
   ]
  },
  {
   "cell_type": "code",
   "execution_count": 242,
   "metadata": {
    "collapsed": true
   },
   "outputs": [],
   "source": [
    "from sklearn.cross_validation import train_test_split\n",
    "df1_train, df1_test, y1_train, y1_test = train_test_split(df1_X, df1_y, train_size=0.7, random_state=13)"
   ]
  },
  {
   "cell_type": "code",
   "execution_count": 266,
   "metadata": {
    "collapsed": false
   },
   "outputs": [
    {
     "name": "stdout",
     "output_type": "stream",
     "text": [
      "Свободный член 2.33097494774\n",
      "Коэффициенты\n",
      "research 0.525942462694\n",
      "international 0.0598159379939\n",
      "citations 0.325273637756\n",
      "income 0.0202611160728\n",
      "\n",
      "\n",
      "MSE_test: 4.27437838584 \n",
      " MSE_train: 4.63001129462\n",
      "\n",
      "\n",
      "R^2 0.97:\n"
     ]
    }
   ],
   "source": [
    "#построим линейную регрессию\n",
    "from sklearn.linear_model import LinearRegression\n",
    "model = LinearRegression(fit_intercept=True)\n",
    "model.fit(df1_train, y1_train)\n",
    "\n",
    "print(\"Свободный член\", model.intercept_[0]) \n",
    "print(\"Коэффициенты\")\n",
    "for i in range(4):\n",
    "    print(df1_X.columns[i], model.coef_[0][i])\n",
    "\n",
    "y1_prediction_test = model.predict(df1_test)\n",
    "y1_prediction_train = model.predict(df1_train)\n",
    "\n",
    "print('\\n')\n",
    "from sklearn.metrics import mean_squared_error\n",
    "m1_test = mean_squared_error(y1_test, y1_prediction_test)\n",
    "m1_train = mean_squared_error(y1_train, y1_prediction_train)\n",
    "print('MSE_test:',m1_test,'\\n','MSE_train:', m1_train)\n",
    "\n",
    "print('\\n')\n",
    "from sklearn.metrics import r2_score\n",
    "print('R^2 %.2f:' % r2_score(y1_test, y1_prediction_test))"
   ]
  },
  {
   "cell_type": "code",
   "execution_count": 294,
   "metadata": {
    "collapsed": false
   },
   "outputs": [],
   "source": [
    "mse1 = {}\n",
    "mse1['linreg'] = m1_test"
   ]
  },
  {
   "cell_type": "code",
   "execution_count": 292,
   "metadata": {
    "collapsed": false
   },
   "outputs": [
    {
     "data": {
      "text/plain": [
       "<matplotlib.axes._subplots.AxesSubplot at 0x2539d19f278>"
      ]
     },
     "execution_count": 292,
     "metadata": {},
     "output_type": "execute_result"
    },
    {
     "data": {
      "image/png": "[encoded data removed]",
      "text/plain": [
       "<matplotlib.figure.Figure at 0x2539d1a72e8>"
      ]
     },
     "metadata": {},
     "output_type": "display_data"
    }
   ],
   "source": [
    "imp1_lr = {}\n",
    "for i in range(4):\n",
    "    imp1_lr[df1_X.columns[i]] = model.coef_[0][i]\n",
    "pd.DataFrame.from_dict(data = imp1_lr, orient='index').plot(kind='bar', legend=False, title = 'Importances')"
   ]
  },
  {
   "cell_type": "markdown",
   "metadata": {},
   "source": [
    "как видно из полученных статистик модель обладает высокой объясняющей способностью и при этом средняя квадратичная ошибка тестовой выборки не сильно отличается от ошибки на обучающей выборке, значение R^2 почти 1, что говорит о том, что total_score почти линейно зависит от признаков.\n",
    "Наиболее важные признаки - Исследования и цитирование"
   ]
  },
  {
   "cell_type": "code",
   "execution_count": 33,
   "metadata": {
    "collapsed": false
   },
   "outputs": [
    {
     "name": "stdout",
     "output_type": "stream",
     "text": [
      "0.931293154517\n"
     ]
    }
   ],
   "source": [
    "# посмотрим, на сколько меняется total_score, при изменении всех признаков на 1\n",
    "n = 0\n",
    "for i in range(4):\n",
    "    n = n + model.coef_[0][i]\n",
    "print(n)"
   ]
  },
  {
   "cell_type": "markdown",
   "metadata": {},
   "source": [
    "Значение меняется почти на 1, так как мы исключили 1 признак"
   ]
  },
  {
   "cell_type": "code",
   "execution_count": 256,
   "metadata": {
    "collapsed": false
   },
   "outputs": [],
   "source": [
    "# анализ остатков коэффициентов регрессии\n",
    "res_test = y1_test - y1_prediction_test"
   ]
  },
  {
   "cell_type": "code",
   "execution_count": 280,
   "metadata": {
    "collapsed": false
   },
   "outputs": [],
   "source": [
    "res_test.columns = ['Residuals']"
   ]
  },
  {
   "cell_type": "code",
   "execution_count": 281,
   "metadata": {
    "collapsed": false
   },
   "outputs": [
    {
     "data": {
      "text/plain": [
       "array([[<matplotlib.axes._subplots.AxesSubplot object at 0x000002539CD47F98>]], dtype=object)"
      ]
     },
     "execution_count": 281,
     "metadata": {},
     "output_type": "execute_result"
    },
    {
     "data": {
      "image/png": "[encoded data removed]",
      "text/plain": [
       "<matplotlib.figure.Figure at 0x2539cd97198>"
      ]
     },
     "metadata": {},
     "output_type": "display_data"
    }
   ],
   "source": [
    "res_test.hist() # распределение остатков регрессии близко к нормальному"
   ]
  },
  {
   "cell_type": "markdown",
   "metadata": {},
   "source": [
    "Построим Decision Tree Regression, для этого сначала найдем оптимальную глубину дерева"
   ]
  },
  {
   "cell_type": "code",
   "execution_count": 283,
   "metadata": {
    "collapsed": true
   },
   "outputs": [],
   "source": [
    "from sklearn.cross_validation import KFold\n",
    "from sklearn.cross_validation import cross_val_score\n",
    "from sklearn.metrics import r2_score\n",
    "kfold = 5 #количество подвыборок для валидации\n",
    "itog_val = {} #список для записи результатов кросс валидации разных алгоритмов\n"
   ]
  },
  {
   "cell_type": "code",
   "execution_count": 296,
   "metadata": {
    "collapsed": false,
    "scrolled": true
   },
   "outputs": [
    {
     "name": "stdout",
     "output_type": "stream",
     "text": [
      "min MSE is:, 5.466, optimum depth is, 23\n",
      "Значимость признаков\n",
      "teaching 0.164068078202\n",
      "international 0.00804307419298\n",
      "research 0.749059813353\n",
      "citations 0.0747398691152\n",
      "income 0.00408916513721\n",
      "\n",
      "\n",
      "MSE_test: 6.2372\n",
      "MSE_train: 0.0\n",
      "R^2: 0.959613305688\n",
      "val: 0.960297086344\n"
     ]
    },
    {
     "data": {
      "image/png": "[encoded data removed]",
      "text/plain": [
       "<matplotlib.figure.Figure at 0x2539d0b59e8>"
      ]
     },
     "metadata": {},
     "output_type": "display_data"
    },
    {
     "data": {
      "image/png": "[encoded data removed]",
      "text/plain": [
       "<matplotlib.figure.Figure at 0x2539d4306d8>"
      ]
     },
     "metadata": {},
     "output_type": "display_data"
    },
    {
     "data": {
      "image/png": "[encoded data removed]",
      "text/plain": [
       "<matplotlib.figure.Figure at 0x2539d46de80>"
      ]
     },
     "metadata": {},
     "output_type": "display_data"
    }
   ],
   "source": [
    "df1_X1 = DF_1.iloc[:,3:8] # выделим переменные, на основе которых строится рейтинг\n",
    "df1_y1 = DF_1.total_score # выделим зависимую переменную total_score\n",
    "\n",
    "# нет необходимости исключать переменную 'research',данные для анализа будут отличаться  \n",
    "from sklearn.cross_validation import train_test_split #разобьем выбоку на тестовую и обучаюшую\n",
    "df1_train, df1_test, y1_train, y1_test = train_test_split(df1_X1, df1_y1, train_size=0.7, random_state=13)\n",
    "from sklearn import tree\n",
    "\n",
    "#подберем оптимальную глубину\n",
    "df1_tests = []\n",
    "df1_trains = []\n",
    "for i in range(1,31):\n",
    "    regr = tree.DecisionTreeRegressor(max_depth=i)\n",
    "    regr.fit(df1_train, y1_train)\n",
    "    y1_prediction_test = regr.predict(df1_test)\n",
    "    y1_prediction_train = regr.predict(df1_train)\n",
    "    m1_test = mean_squared_error(y1_test, y1_prediction_test)\n",
    "    m1_train = mean_squared_error(y1_train, y1_prediction_train)\n",
    "    df1_tests.append(m1_test)\n",
    "    df1_trains.append(m1_train)\n",
    "    \n",
    "fig, ax = plt.subplots(figsize=(6, 3))\n",
    "\n",
    "ax.plot(df1_tests, label=r\"$y = mse  test$\")\n",
    "ax.plot(df1_trains, label=r\"$y = mse  train$\")\n",
    "ax.set_title('MSE')\n",
    "ax.legend(loc=1)\n",
    "\n",
    "mse1['tree'] = np.asarray(df1_tests).min()\n",
    "print('min MSE is:',np.asarray(df1_tests).min(), 'optimum depth is', np.argmin(np.asarray(df1_tests))+1, sep = ', ')\n",
    "\n",
    "from sklearn.tree import DecisionTreeRegressor\n",
    "regres = tree.DecisionTreeRegressor(max_depth=np.argmin(np.asarray(df1_tests))+1)\n",
    "regres.fit(df1_train, y1_train)\n",
    "\n",
    "y1_prediction = regres.predict(df1_test)\n",
    "y1_prediction_train = regres.predict(df1_train)\n",
    "\n",
    "# выведем значимость признаков\n",
    "print('Значимость признаков')\n",
    "a1 = regres.feature_importances_\n",
    "for i in range(len(a1)):\n",
    "    print(df1_X1.columns[i], a1[i])\n",
    "\n",
    "# обозначим меры качества, которые будем использовать при оценке моделей:\n",
    "# оценка скользящего контроля, средняя квадратичная ошибка и Коэффициент детерминации R2\n",
    "print('\\n')\n",
    "# средняя квадратичная ошибка на тестовой и на обучающей выборках:\n",
    "mse_test = mean_squared_error(y1_test, y1_prediction)\n",
    "mse_train = mean_squared_error(y1_train, y1_prediction_train)\n",
    "print('MSE_test:',mse_test)\n",
    "print('MSE_train:',mse_train)\n",
    "\n",
    "# Коэффициент детерминации R2\n",
    "r2 = r2_score(y1_test, y1_prediction)\n",
    "print('R^2:', r2)\n",
    "\n",
    "# найдем показатель скользящего контроля\n",
    "scores = cross_val_score(regres, df1_X1, df1_y1, cv = kfold)\n",
    "print('val:',scores.mean()) # в качестве итогового показателя возьмем среднее значение\n",
    "\n",
    "plt.figure()\n",
    "plt.plot(scores)\n",
    "plt.title('Validation curve')\n",
    "\n",
    "# Plot the results\n",
    "plt.figure()\n",
    "plt.scatter(y1_test, y1_prediction)\n",
    "plt.show()\n"
   ]
  },
  {
   "cell_type": "code",
   "execution_count": 288,
   "metadata": {
    "collapsed": false
   },
   "outputs": [
    {
     "data": {
      "text/plain": [
       "<matplotlib.axes._subplots.AxesSubplot at 0x2539d072b38>"
      ]
     },
     "execution_count": 288,
     "metadata": {},
     "output_type": "execute_result"
    },
    {
     "data": {
      "image/png": "[encoded data removed]",
      "text/plain": [
       "<matplotlib.figure.Figure at 0x2539d0aceb8>"
      ]
     },
     "metadata": {},
     "output_type": "display_data"
    }
   ],
   "source": [
    "imp1_tr = {}\n",
    "for i in range(len(a1)):\n",
    "    imp1_tr[df1_X1.columns[i]] = a1[i]\n",
    "pd.DataFrame.from_dict(data = imp1_tr, orient='index').plot(kind='bar', legend=False, title = 'Importances')"
   ]
  },
  {
   "cell_type": "markdown",
   "metadata": {},
   "source": [
    "Данная модель также показала довольно высокую точность, но меньше, чем линейная. Ошибка на тестовой выборкесильно больше, чем на тестовой.\n",
    "Отдельно стоит выделить, что исследования имеют очень высокий вес."
   ]
  },
  {
   "cell_type": "markdown",
   "metadata": {
    "collapsed": true
   },
   "source": [
    "Построение Random Forest"
   ]
  },
  {
   "cell_type": "code",
   "execution_count": 300,
   "metadata": {
    "collapsed": false,
    "scrolled": true
   },
   "outputs": [
    {
     "name": "stdout",
     "output_type": "stream",
     "text": [
      "MSE_test: 2.35101227173\n",
      "MSE_train: 0.391499090382\n",
      "R^2: 0.984776884829\n"
     ]
    }
   ],
   "source": [
    "from sklearn.ensemble import RandomForestRegressor\n",
    "from sklearn.cross_validation import cross_val_score, KFold\n",
    "# определим оптимальное количество деревьев\n",
    "cr_val = KFold(df1_X1.shape[0], n_folds = 5, shuffle = True, random_state=1)\n",
    "\n",
    "result=[]\n",
    "for i in range(1,51):\n",
    "    regr = RandomForestRegressor(n_estimators = i, random_state=1)\n",
    "    regr.fit(df1_train, y1_train)\n",
    "    res = cross_val_score(regr, df1_X1, df1_y1, cv = cr_val, scoring='r2').mean()\n",
    "    result.append(res)\n",
    "a = max(result)\n",
    "tree = result.index(a) # оптимальное количество деревьев\n",
    "\n",
    "regr = RandomForestRegressor(n_estimators = tree, random_state=1)\n",
    "regr.fit(df1_train, y1_train)\n",
    "\n",
    "y1_prediction = regr.predict(df1_test)\n",
    "y1_prediction_train = regr.predict(df1_train)\n",
    "\n",
    "mse_test = mean_squared_error(y1_test, y1_prediction)\n",
    "mse_train = mean_squared_error(y1_train, y1_prediction_train)\n",
    "print('MSE_test:',mse_test)\n",
    "print('MSE_train:',mse_train)\n",
    "\n",
    "# Коэффициент детерминации R2\n",
    "r2 = r2_score(y1_test, y1_prediction)\n",
    "print('R^2:', r2)\n"
   ]
  },
  {
   "cell_type": "code",
   "execution_count": 301,
   "metadata": {
    "collapsed": true
   },
   "outputs": [],
   "source": [
    "mse1['rf'] = mse_test"
   ]
  },
  {
   "cell_type": "code",
   "execution_count": 291,
   "metadata": {
    "collapsed": false
   },
   "outputs": [
    {
     "data": {
      "text/plain": [
       "<matplotlib.axes._subplots.AxesSubplot at 0x2539d0e55f8>"
      ]
     },
     "execution_count": 291,
     "metadata": {},
     "output_type": "execute_result"
    },
    {
     "data": {
      "image/png": "[encoded data removed]",
      "text/plain": [
       "<matplotlib.figure.Figure at 0x2539d05b1d0>"
      ]
     },
     "metadata": {},
     "output_type": "display_data"
    }
   ],
   "source": [
    "a1 = regr.feature_importances_\n",
    "imp1_rf = {}\n",
    "for i in range(len(a1)):\n",
    "    imp1_rf[df1_X1.columns[i]] = a1[i]\n",
    "pd.DataFrame.from_dict(data = imp1_rf, orient='index').plot(kind='bar', legend=False, title = 'Importances')"
   ]
  },
  {
   "cell_type": "markdown",
   "metadata": {
    "collapsed": true
   },
   "source": [
    "Оценка получилась весьма точной, лучше, чем на обычных деревьях по всем параметрам, кроме ошибки на обучающей выборке."
   ]
  },
  {
   "cell_type": "code",
   "execution_count": 302,
   "metadata": {
    "collapsed": false
   },
   "outputs": [
    {
     "data": {
      "text/plain": [
       "<matplotlib.axes._subplots.AxesSubplot at 0x2539d320f60>"
      ]
     },
     "execution_count": 302,
     "metadata": {},
     "output_type": "execute_result"
    },
    {
     "data": {
      "image/png": "[encoded data removed]",
      "text/plain": [
       "<matplotlib.figure.Figure at 0x2539d320588>"
      ]
     },
     "metadata": {},
     "output_type": "display_data"
    }
   ],
   "source": [
    "pd.DataFrame.from_dict(data = mse1, orient='index').plot(kind='bar', legend=False, title = 'MSE')"
   ]
  },
  {
   "cell_type": "markdown",
   "metadata": {
    "collapsed": true
   },
   "source": [
    "Выводы по первому рейтингу:\n",
    "    Судя по полученным результатам различных регрессий, total_score строится линейно, возможно, с какими-то небольшими нюансами,\n",
    "    такими, как округление."
   ]
  },
  {
   "cell_type": "markdown",
   "metadata": {},
   "source": [
    "Восстановим значения total score для рейтинга Academic Ranking of World Universities в период с 2012 по 2015\n",
    "В осписании методологии этого рейтинга указаны коэффициенты, с которыми они берут различные показатели для подсчета итоговых баллов:\n",
    "* 10% Alumni\n",
    "* 20% Award\n",
    "* 20% HiCi\n",
    "* 20% N&S\n",
    "* 20% PUB\n",
    "* 10% PCP"
   ]
  },
  {
   "cell_type": "code",
   "execution_count": 39,
   "metadata": {
    "collapsed": false
   },
   "outputs": [
    {
     "name": "stderr",
     "output_type": "stream",
     "text": [
      "C:\\Users\\Aspire\\Anaconda3\\lib\\site-packages\\pandas\\core\\indexing.py:426: SettingWithCopyWarning: \n",
      "A value is trying to be set on a copy of a slice from a DataFrame.\n",
      "Try using .loc[row_indexer,col_indexer] = value instead\n",
      "\n",
      "See the caveats in the documentation: http://pandas.pydata.org/pandas-docs/stable/indexing.html#indexing-view-versus-copy\n",
      "  self.obj[item] = s\n"
     ]
    }
   ],
   "source": [
    "# Воссоздадим пропущенные значения по заданной формуле.\n",
    "# 2012\n",
    "DF2.loc[3614:3798,'total_score'] = df2.loc[3614:3798,'alumni']*0.1 + df2.loc[3614:3798,'award']*0.2 + df2.loc[3614:3798,'hici']*0.2 + df2.loc[3614:3798,'ns']*0.2 + df2.loc[3614:3798,'pub']*0.2 + df2.loc[3614:3798,'pcp']*0.1\n",
    "# в 2013 году в рейтинге отсутствуют пропущенные значения\n",
    "# в 2014\n",
    "DF2.loc[3997:4397,'total_score'] = df2.loc[3997:4397,'alumni']*0.1 + df2.loc[3997:4397,'award']*0.2 + df2.loc[3997:4397,'hici']*0.2 + df2.loc[3997:4397,'ns']*0.2 + df2.loc[3997:4397,'pub']*0.2 + df2.loc[3997:4397,'pcp']*0.1\n",
    "# в 2015\n",
    "DF2.loc[4497:4897,'total_score'] = df2.loc[4497:4897,'alumni']*0.1 + df2.loc[4497:4897,'award']*0.2 + df2.loc[4497:4897,'hici']*0.2 + df2.loc[4497:4897,'ns']*0.2 + df2.loc[4497:4897,'pub']*0.2 + df2.loc[4497:4897,'pcp']*0.1\n"
   ]
  },
  {
   "cell_type": "code",
   "execution_count": 40,
   "metadata": {
    "collapsed": false
   },
   "outputs": [
    {
     "data": {
      "text/html": [
       "<div>\n",
       "<table border=\"1\" class=\"dataframe\">\n",
       "  <thead>\n",
       "    <tr style=\"text-align: right;\">\n",
       "      <th></th>\n",
       "      <th>total_score</th>\n",
       "    </tr>\n",
       "  </thead>\n",
       "  <tbody>\n",
       "    <tr>\n",
       "      <th>alumni</th>\n",
       "      <td>0.818420</td>\n",
       "    </tr>\n",
       "    <tr>\n",
       "      <th>award</th>\n",
       "      <td>0.871577</td>\n",
       "    </tr>\n",
       "    <tr>\n",
       "      <th>hici</th>\n",
       "      <td>0.908155</td>\n",
       "    </tr>\n",
       "    <tr>\n",
       "      <th>ns</th>\n",
       "      <td>0.941100</td>\n",
       "    </tr>\n",
       "    <tr>\n",
       "      <th>pub</th>\n",
       "      <td>0.748068</td>\n",
       "    </tr>\n",
       "    <tr>\n",
       "      <th>pcp</th>\n",
       "      <td>0.771833</td>\n",
       "    </tr>\n",
       "  </tbody>\n",
       "</table>\n",
       "</div>"
      ],
      "text/plain": [
       "        total_score\n",
       "alumni     0.818420\n",
       "award      0.871577\n",
       "hici       0.908155\n",
       "ns         0.941100\n",
       "pub        0.748068\n",
       "pcp        0.771833"
      ]
     },
     "execution_count": 40,
     "metadata": {},
     "output_type": "execute_result"
    }
   ],
   "source": [
    "# корреляция total_score для рейтинга Academic Ranking of World Universities\n",
    "corr2 = DF2.iloc[:,:10].corr(method = 'pearson', min_periods=1)\n",
    "corr2.iloc[1:,:1] "
   ]
  },
  {
   "cell_type": "markdown",
   "metadata": {},
   "source": [
    "Все переменные имеют положительную корреляцию с total_score, при чем наиболее сильная взаимосвязь с переменными: \n",
    "* ns - баллы университета за публикации в Nature and Science\n",
    "* hici - баллы университета за высоко оцененных исследователей \n",
    "* award - баллы университета за успешних преподавателей(лауреаты Нобелевской премии)"
   ]
  },
  {
   "cell_type": "code",
   "execution_count": 52,
   "metadata": {
    "collapsed": false
   },
   "outputs": [
    {
     "name": "stdout",
     "output_type": "stream",
     "text": [
      "ns hici 0.882471616806\n"
     ]
    }
   ],
   "source": [
    "# Выявим среди детерминирующих переменных,наиболее коррелированные (для исправления мультиколлинеарности в последствии)\n",
    "corr = DF2.corr(method = 'pearson', min_periods=1)\n",
    "corr22 = corr.iloc[1:10,1:10]\n",
    "corr_array = np.array(corr22)\n",
    "for i in range(len(corr22.columns)):\n",
    "    for j in range(len(corr22.columns)):\n",
    "        if i==j and corr_array[i][j] == 1:\n",
    "            corr_array[i][j] = 0\n",
    "        corr_array[i][j] = abs(corr_array[i][j])\n",
    "unique = np.unique(corr_array)\n",
    "sort = unique[::-1]\n",
    "ans = []\n",
    "a = corr22.columns\n",
    "b = corr22.index\n",
    "for n in sort:\n",
    "    if n>= 0.8:\n",
    "        ans.append(n)\n",
    "for i in range(len(corr22.columns)):\n",
    "    for j in range(i+1):\n",
    "        for _ in range(len(ans)):\n",
    "            if abs(corr_array[i][j]) == ans[_]:\n",
    "                print(a[i], b[j], corr_array[i][j])\n",
    "    "
   ]
  },
  {
   "cell_type": "markdown",
   "metadata": {},
   "source": [
    "Так как переменные ns и hici сильно коррелированы необходимо исключить из анализа одну из этих переменных, так как зависимость total_score с переменной ns выше (0.941100), чем с переменной hici (0.908155), то возможно в дальнейшем исключить переменную hici из анализа рейтинга Academic Ranking of World Universities"
   ]
  },
  {
   "cell_type": "markdown",
   "metadata": {
    "collapsed": true
   },
   "source": [
    "Линейная регрессия для второго рейтинга"
   ]
  },
  {
   "cell_type": "code",
   "execution_count": 48,
   "metadata": {
    "collapsed": true
   },
   "outputs": [],
   "source": [
    "DF_2 = DF2.dropna(how = 'any')\n",
    "df2_X = DF_2.iloc[:,4:10]\n",
    "df2_y = DF_2.total_score\n",
    "df2_train, df2_test, y2_train, y2_test = train_test_split(df2_X, df2_y, train_size=0.7, random_state = 13)\n"
   ]
  },
  {
   "cell_type": "code",
   "execution_count": 304,
   "metadata": {
    "collapsed": false
   },
   "outputs": [
    {
     "name": "stdout",
     "output_type": "stream",
     "text": [
      "Свободный член -0.344114980273\n",
      "Коэффициенты\n",
      "alumni 0.103233297741\n",
      "award 0.209308326863\n",
      "hici 0.209877608975\n",
      "ns 0.204185101332\n",
      "pub 0.205790214964\n",
      "pcp 0.100097991822\n",
      "\n",
      "\n",
      "MSE_test: 0.0475231065685 \n",
      " MSE_train: 0.0369862598233\n",
      "\n",
      "\n",
      "R^2 1.00:\n"
     ]
    }
   ],
   "source": [
    "model = LinearRegression(fit_intercept=True)\n",
    "model.fit(df2_train, y2_train)\n",
    "\n",
    "print(\"Свободный член\", model.intercept_) \n",
    "print(\"Коэффициенты\")\n",
    "for i in range(6):\n",
    "    print(df2_X.columns[i], model.coef_[i])\n",
    "\n",
    "y2_prediction_test = model.predict(df2_test)\n",
    "y2_prediction_train = model.predict(df2_train)\n",
    "\n",
    "print('\\n')\n",
    "from sklearn.metrics import mean_squared_error\n",
    "m2_test = mean_squared_error(y2_test, y2_prediction_test)\n",
    "m2_train = mean_squared_error(y2_train, y2_prediction_train)\n",
    "print('MSE_test:',m2_test,'\\n','MSE_train:', m2_train)\n",
    "\n",
    "print('\\n')\n",
    "from sklearn.metrics import r2_score\n",
    "print('R^2 %.2f:' % r2_score(y2_test, y2_prediction_test))"
   ]
  },
  {
   "cell_type": "markdown",
   "metadata": {
    "collapsed": true
   },
   "source": [
    "Линейное построение данного рейтинга полностью подтвердилось, погрешность весов и ошибка очень низки."
   ]
  },
  {
   "cell_type": "code",
   "execution_count": 51,
   "metadata": {
    "collapsed": false,
    "scrolled": true
   },
   "outputs": [
    {
     "name": "stdout",
     "output_type": "stream",
     "text": [
      "1.0324925417\n"
     ]
    }
   ],
   "source": [
    "n = 0\n",
    "for i in range(6):\n",
    "    n = n + model.coef_[i]\n",
    "print(n)"
   ]
  },
  {
   "cell_type": "markdown",
   "metadata": {
    "collapsed": true
   },
   "source": [
    "Изменение total_score при увеличении всех признаков на 1 почти равно 1."
   ]
  },
  {
   "cell_type": "code",
   "execution_count": 312,
   "metadata": {
    "collapsed": false
   },
   "outputs": [
    {
     "data": {
      "text/plain": [
       "array([[<matplotlib.axes._subplots.AxesSubplot object at 0x000002539D273A20>]], dtype=object)"
      ]
     },
     "execution_count": 312,
     "metadata": {},
     "output_type": "execute_result"
    },
    {
     "data": {
      "image/png": "[encoded data removed]",
      "text/plain": [
       "<matplotlib.figure.Figure at 0x253965c4668>"
      ]
     },
     "metadata": {},
     "output_type": "display_data"
    }
   ],
   "source": [
    "#гистограмма отклонений почти вся лежит в отреке от -0.5 до 0.5\n",
    "res_test = y2_test - y2_prediction_test\n",
    "res_test = pd.DataFrame(res_test)\n",
    "res_test.columns = ['Residuals']\n",
    "res_test.hist()"
   ]
  },
  {
   "cell_type": "code",
   "execution_count": 313,
   "metadata": {
    "collapsed": false
   },
   "outputs": [
    {
     "data": {
      "text/plain": [
       "<matplotlib.axes._subplots.AxesSubplot at 0x2539cf88978>"
      ]
     },
     "execution_count": 313,
     "metadata": {},
     "output_type": "execute_result"
    },
    {
     "data": {
      "image/png": "[encoded data removed]",
      "text/plain": [
       "<matplotlib.figure.Figure at 0x2539d268b00>"
      ]
     },
     "metadata": {},
     "output_type": "display_data"
    }
   ],
   "source": [
    "imp2_lr = {}\n",
    "for i in range(6):\n",
    "    imp2_lr[df2_X.columns[i]] = model.coef_[i]\n",
    "pd.DataFrame.from_dict(data = imp2_lr, orient='index').plot(kind='bar', legend=False, title = 'Importances')"
   ]
  },
  {
   "cell_type": "code",
   "execution_count": 54,
   "metadata": {
    "collapsed": false
   },
   "outputs": [
    {
     "data": {
      "text/html": [
       "<div>\n",
       "<table border=\"1\" class=\"dataframe\">\n",
       "  <thead>\n",
       "    <tr style=\"text-align: right;\">\n",
       "      <th></th>\n",
       "      <th>score</th>\n",
       "    </tr>\n",
       "  </thead>\n",
       "  <tbody>\n",
       "    <tr>\n",
       "      <th>national_rank</th>\n",
       "      <td>-0.199756</td>\n",
       "    </tr>\n",
       "    <tr>\n",
       "      <th>quality_of_education</th>\n",
       "      <td>-0.600541</td>\n",
       "    </tr>\n",
       "    <tr>\n",
       "      <th>alumni_employment</th>\n",
       "      <td>-0.510374</td>\n",
       "    </tr>\n",
       "    <tr>\n",
       "      <th>quality_of_faculty</th>\n",
       "      <td>-0.693540</td>\n",
       "    </tr>\n",
       "    <tr>\n",
       "      <th>publications</th>\n",
       "      <td>-0.522111</td>\n",
       "    </tr>\n",
       "    <tr>\n",
       "      <th>influence</th>\n",
       "      <td>-0.522837</td>\n",
       "    </tr>\n",
       "    <tr>\n",
       "      <th>citations</th>\n",
       "      <td>-0.522438</td>\n",
       "    </tr>\n",
       "    <tr>\n",
       "      <th>broad_impact</th>\n",
       "      <td>-0.531590</td>\n",
       "    </tr>\n",
       "    <tr>\n",
       "      <th>patents</th>\n",
       "      <td>-0.474810</td>\n",
       "    </tr>\n",
       "  </tbody>\n",
       "</table>\n",
       "</div>"
      ],
      "text/plain": [
       "                         score\n",
       "national_rank        -0.199756\n",
       "quality_of_education -0.600541\n",
       "alumni_employment    -0.510374\n",
       "quality_of_faculty   -0.693540\n",
       "publications         -0.522111\n",
       "influence            -0.522837\n",
       "citations            -0.522438\n",
       "broad_impact         -0.531590\n",
       "patents              -0.474810"
      ]
     },
     "execution_count": 54,
     "metadata": {},
     "output_type": "execute_result"
    }
   ],
   "source": [
    "# корреляция total_score для рейтинга 'Center for World University Rankings'\n",
    "corr3 = df3.corr(method = 'pearson', min_periods=1)\n",
    "corr3.iloc[1:10,10:11]"
   ]
  },
  {
   "cell_type": "markdown",
   "metadata": {},
   "source": [
    "Все переменные имеют отрицательную корреляцию с переменной score, так как в данном рейтинге наибольшее количество итоговых баллов присуждалось университету набравшему скммарно наименьшее количество очков (мест) по всем категориям. Ниболее коррелированы переменные: quality_of_faculty (-0.693540) и quality_of_education (-0.600541)"
   ]
  },
  {
   "cell_type": "code",
   "execution_count": 55,
   "metadata": {
    "collapsed": false
   },
   "outputs": [
    {
     "name": "stdout",
     "output_type": "stream",
     "text": [
      "influence publications 0.874951645927\n",
      "citations publications 0.829911697177\n",
      "citations influence 0.845206806088\n",
      "broad_impact publications 0.917877845939\n",
      "broad_impact influence 0.916040261401\n",
      "broad_impact citations 0.852638025259\n"
     ]
    }
   ],
   "source": [
    "corr = df3.corr(method = 'pearson', min_periods=1)\n",
    "corr33 = corr.iloc[1:10,1:10]\n",
    "corr_array = np.array(corr33)\n",
    "for i in range(len(corr33.columns)):\n",
    "    for j in range(len(corr33.columns)):\n",
    "        if i==j and corr_array[i][j] == 1:\n",
    "            corr_array[i][j] = 0\n",
    "        corr_array[i][j] = abs(corr_array[i][j])\n",
    "unique = np.unique(corr_array)\n",
    "sort = unique[::-1]\n",
    "ans = []\n",
    "a = corr33.columns\n",
    "b = corr33.index\n",
    "for n in sort:\n",
    "    if n>= 0.8:\n",
    "        ans.append(n)\n",
    "for i in range(len(corr33.columns)):\n",
    "    for j in range(i+1):\n",
    "        for _ in range(len(ans)):\n",
    "            if abs(corr_array[i][j]) == ans[_]:\n",
    "                print(a[i], b[j], corr_array[i][j])"
   ]
  },
  {
   "cell_type": "markdown",
   "metadata": {},
   "source": [
    "Особенностью данного рейтинга, является то, что переменная broad_impact была включена в рейтинг, начиная с 2014, так как между ней и другими пременными существует недопустимая корреляция, мы предлагаем убрать эту переменную из нашего последующего анализа. Переменные influence, publications, citations имеют примерно одинаковую корреляцию с итоговой переменной, мы решили оставить переменную citations, так как у нее выше значение корреляции и пременной score, и преременная с подобной смысловой нагрузкой также встречается в остальных рейтингах"
   ]
  },
  {
   "cell_type": "code",
   "execution_count": 316,
   "metadata": {
    "collapsed": false
   },
   "outputs": [],
   "source": [
    "DF3 = df3.loc[:,['national_rank','quality_of_education', 'alumni_employment', 'quality_of_faculty', 'citations', 'patents','score']]"
   ]
  },
  {
   "cell_type": "code",
   "execution_count": 317,
   "metadata": {
    "collapsed": false
   },
   "outputs": [],
   "source": [
    "DF_3 = DF3.dropna(how = 'any')\n",
    "df3_X = DF_3.iloc[:,:6]\n",
    "df3_y = DF_3.score\n",
    "df3_train, df3_test, y3_train, y3_test = train_test_split(df3_X, df3_y, train_size=0.7, random_state = 13)"
   ]
  },
  {
   "cell_type": "code",
   "execution_count": 318,
   "metadata": {
    "collapsed": false
   },
   "outputs": [
    {
     "name": "stdout",
     "output_type": "stream",
     "text": [
      "Свободный член 62.3399870355\n",
      "Коэффициенты\n",
      "national_rank -0.00614052086837\n",
      "quality_of_education -0.00380189346447\n",
      "alumni_employment -0.00516643670682\n",
      "quality_of_faculty -0.0566355123658\n",
      "citations -0.00141823015445\n",
      "patents -0.00181203929468\n",
      "\n",
      "\n",
      "MSE_test: 30.7227306999 \n",
      " MSE_train: 29.0342204421\n",
      "\n",
      "\n",
      "R^2 0.55:\n"
     ]
    }
   ],
   "source": [
    "model = LinearRegression(fit_intercept=True)\n",
    "model.fit(df3_train, y3_train)\n",
    "\n",
    "print(\"Свободный член\", model.intercept_) \n",
    "print(\"Коэффициенты\")\n",
    "for i in range(6):\n",
    "    print(df3_X.columns[i], model.coef_[i])\n",
    "\n",
    "y3_prediction_test = model.predict(df3_test)\n",
    "y3_prediction_train = model.predict(df3_train)\n",
    "\n",
    "print('\\n')\n",
    "m3_test = mean_squared_error(y3_test, y3_prediction_test)\n",
    "m3_train = mean_squared_error(y3_train, y3_prediction_train)\n",
    "print('MSE_test:',m3_test,'\\n','MSE_train:', m3_train)\n",
    "\n",
    "print('\\n')\n",
    "print('R^2 %.2f:' % r2_score(y3_test, y3_prediction_test))"
   ]
  },
  {
   "cell_type": "markdown",
   "metadata": {
    "collapsed": true
   },
   "source": [
    "Построение данного рейтинга по признакам явно не линейно."
   ]
  },
  {
   "cell_type": "code",
   "execution_count": 321,
   "metadata": {
    "collapsed": false
   },
   "outputs": [
    {
     "data": {
      "text/plain": [
       "array([[<matplotlib.axes._subplots.AxesSubplot object at 0x000002539E598390>]], dtype=object)"
      ]
     },
     "execution_count": 321,
     "metadata": {},
     "output_type": "execute_result"
    },
    {
     "data": {
      "image/png": "[encoded data removed]",
      "text/plain": [
       "<matplotlib.figure.Figure at 0x2539cedbc18>"
      ]
     },
     "metadata": {},
     "output_type": "display_data"
    }
   ],
   "source": [
    "res_test = y3_test - y3_prediction_test\n",
    "res_test = pd.DataFrame(res_test)\n",
    "res_test.columns = ['Residuals']\n",
    "res_test.hist()"
   ]
  },
  {
   "cell_type": "code",
   "execution_count": 322,
   "metadata": {
    "collapsed": false
   },
   "outputs": [
    {
     "data": {
      "text/plain": [
       "<matplotlib.axes._subplots.AxesSubplot at 0x2539e593630>"
      ]
     },
     "execution_count": 322,
     "metadata": {},
     "output_type": "execute_result"
    },
    {
     "data": {
      "image/png": "[encoded data removed]",
      "text/plain": [
       "<matplotlib.figure.Figure at 0x2539e61a4e0>"
      ]
     },
     "metadata": {},
     "output_type": "display_data"
    }
   ],
   "source": [
    "imp3_lr = {}\n",
    "for i in range(6):\n",
    "    imp3_lr[df3_X.columns[i]] = model.coef_[i]\n",
    "pd.DataFrame.from_dict(data = imp3_lr, orient='index').plot(kind='bar', legend=False, title = 'Importances')"
   ]
  },
  {
   "cell_type": "code",
   "execution_count": 323,
   "metadata": {
    "collapsed": true
   },
   "outputs": [],
   "source": [
    "mse3 = {}\n",
    "mse3['linreg'] = m3_test"
   ]
  },
  {
   "cell_type": "markdown",
   "metadata": {},
   "source": [
    "DecisionTreeRegressor"
   ]
  },
  {
   "cell_type": "code",
   "execution_count": 325,
   "metadata": {
    "collapsed": false
   },
   "outputs": [
    {
     "name": "stdout",
     "output_type": "stream",
     "text": [
      "min MSE is:, 4.17744246212, optimum depth is, 27\n",
      "Значимость признаков\n",
      "national_rank 0.0124216020556\n",
      "quality_of_education 0.0382099722482\n",
      "alumni_employment 0.0406403036788\n",
      "quality_of_faculty 0.722618594332\n",
      "citations 0.178626696094\n",
      "patents 0.00748283159108\n",
      "\n",
      "\n",
      "MSE_test: 4.57991246212\n",
      "MSE_train: 0.000869989177489\n",
      "R^2: 0.933555281311\n",
      "val: -2.24961368682\n"
     ]
    },
    {
     "data": {
      "image/png": "[encoded data removed]",
      "text/plain": [
       "<matplotlib.figure.Figure at 0x2539d440390>"
      ]
     },
     "metadata": {},
     "output_type": "display_data"
    },
    {
     "data": {
      "image/png": "[encoded data removed]",
      "text/plain": [
       "<matplotlib.figure.Figure at 0x2539e75bcc0>"
      ]
     },
     "metadata": {},
     "output_type": "display_data"
    },
    {
     "data": {
      "image/png": "[encoded data removed]",
      "text/plain": [
       "<matplotlib.figure.Figure at 0x2539d414400>"
      ]
     },
     "metadata": {},
     "output_type": "display_data"
    }
   ],
   "source": [
    "df3_tests = []\n",
    "df3_trains = []\n",
    "from sklearn import tree\n",
    "#подберем оптимальную глубину\n",
    "for i in range(1,31):\n",
    "    regr = tree.DecisionTreeRegressor(max_depth=i)\n",
    "    regr.fit(df3_train, y3_train)\n",
    "    y3_prediction_test = regr.predict(df3_test)\n",
    "    y3_prediction_train = regr.predict(df3_train)\n",
    "    m3_test = mean_squared_error(y3_test, y3_prediction_test)\n",
    "    m3_train = mean_squared_error(y3_train, y3_prediction_train)\n",
    "    df3_tests.append(m3_test)\n",
    "    df3_trains.append(m3_train)\n",
    "    \n",
    "fig, ax = plt.subplots(figsize=(6, 3))\n",
    "\n",
    "ax.plot(df3_tests, label=r\"$y = mse  test$\")\n",
    "ax.plot(df3_trains, label=r\"$y = mse  train$\")\n",
    "ax.set_title('MSE')\n",
    "ax.legend(loc=1)\n",
    "\n",
    "mse3['tree'] = np.asarray(df3_tests).min()\n",
    "print('min MSE is:',np.asarray(df3_tests).min(), 'optimum depth is', np.argmin(np.asarray(df3_tests))+1, sep = ', ')\n",
    "\n",
    "from sklearn.tree import DecisionTreeRegressor\n",
    "regres = tree.DecisionTreeRegressor(max_depth=np.argmin(np.asarray(df3_tests))+1)\n",
    "regres.fit(df3_train, y3_train)\n",
    "\n",
    "y3_prediction = regres.predict(df3_test)\n",
    "y3_prediction_train = regres.predict(df3_train)\n",
    "\n",
    "# выведем значимость признаков\n",
    "print('Значимость признаков')\n",
    "a1 = regres.feature_importances_\n",
    "for i in range(len(a1)):\n",
    "    print(df3_X.columns[i], a1[i])\n",
    "\n",
    "# обозначим меры качества, которые будем использовать при оценке моделей:\n",
    "# оценка скользящего контроля, средняя квадратичная ошибка и Коэффициент детерминации R2\n",
    "print('\\n')\n",
    "# средняя квадратичная ошибка на тестовой и на обучающей выборках:\n",
    "mse_test = mean_squared_error(y3_test, y3_prediction)\n",
    "mse_train = mean_squared_error(y3_train, y3_prediction_train)\n",
    "print('MSE_test:',mse_test)\n",
    "print('MSE_train:',mse_train)\n",
    "\n",
    "# Коэффициент детерминации R2\n",
    "r2 = r2_score(y3_test, y3_prediction)\n",
    "print('R^2:', r2)\n",
    "\n",
    "# найдем показатель скользящего контроля\n",
    "scores = cross_val_score(regres, df3_X, df3_y, cv = kfold)\n",
    "print('val:',scores.mean()) # в качестве итогового показателя возьмем среднее значение\n",
    "\n",
    "plt.figure()\n",
    "plt.plot(scores)\n",
    "plt.title('Validation curve')\n",
    "\n",
    "# Plot the results\n",
    "plt.figure()\n",
    "plt.scatter(y3_test, y3_prediction)\n",
    "plt.show()"
   ]
  },
  {
   "cell_type": "code",
   "execution_count": 326,
   "metadata": {
    "collapsed": false
   },
   "outputs": [
    {
     "data": {
      "text/plain": [
       "<matplotlib.axes._subplots.AxesSubplot at 0x2539b9d5048>"
      ]
     },
     "execution_count": 326,
     "metadata": {},
     "output_type": "execute_result"
    },
    {
     "data": {
      "image/png": "[encoded data removed]",
      "text/plain": [
       "<matplotlib.figure.Figure at 0x2539ccffa58>"
      ]
     },
     "metadata": {},
     "output_type": "display_data"
    }
   ],
   "source": [
    "imp3_tr = {}\n",
    "for i in range(len(a1)):\n",
    "    imp3_tr[df3_X.columns[i]] = a1[i]\n",
    "pd.DataFrame.from_dict(data = imp3_tr, orient='index').plot(kind='bar', legend=False, title = 'Importances')"
   ]
  },
  {
   "cell_type": "markdown",
   "metadata": {
    "collapsed": true
   },
   "source": [
    "Точность довольно высокая, различия на тестовой и обучающей выборке весьма существенные."
   ]
  },
  {
   "cell_type": "code",
   "execution_count": 330,
   "metadata": {
    "collapsed": false
   },
   "outputs": [
    {
     "name": "stdout",
     "output_type": "stream",
     "text": [
      "MSE_test: 1.95821532729\n",
      "MSE_train: 0.269357654887\n",
      "R^2: 0.971590490511\n"
     ]
    }
   ],
   "source": [
    "from sklearn.ensemble import RandomForestRegressor\n",
    "from sklearn.cross_validation import cross_val_score, KFold\n",
    "# определим оптимальное количество деревьев\n",
    "cr_val = KFold(df3_X.shape[0], n_folds = 5, shuffle = True, random_state=1)\n",
    "\n",
    "result=[]\n",
    "for i in range(1,51):\n",
    "    regr = RandomForestRegressor(n_estimators = i, random_state=1)\n",
    "    regr.fit(df3_train, y3_train)\n",
    "    res = cross_val_score(regr, df3_X, df3_y, cv = cr_val, scoring='r2').mean()\n",
    "    result.append(res)\n",
    "a = max(result)\n",
    "tree = result.index(a) # оптимальное количество деревьев\n",
    "\n",
    "regr = RandomForestRegressor(n_estimators = tree, random_state=1)\n",
    "regr.fit(df3_train, y3_train)\n",
    "\n",
    "y3_prediction = regr.predict(df3_test)\n",
    "y3_prediction_train = regr.predict(df3_train)\n",
    "\n",
    "mse_test = mean_squared_error(y3_test, y3_prediction)\n",
    "mse_train = mean_squared_error(y3_train, y3_prediction_train)\n",
    "print('MSE_test:',mse_test)\n",
    "print('MSE_train:',mse_train)\n",
    "\n",
    "# Коэффициент детерминации R2\n",
    "r2 = r2_score(y3_test, y3_prediction)\n",
    "print('R^2:', r2)\n"
   ]
  },
  {
   "cell_type": "markdown",
   "metadata": {
    "collapsed": true
   },
   "source": [
    "Точность получлась лучшей из 3х моделей, различия оценки на тестовой и обучающей выборке невысокие."
   ]
  },
  {
   "cell_type": "code",
   "execution_count": 335,
   "metadata": {
    "collapsed": false
   },
   "outputs": [
    {
     "name": "stdout",
     "output_type": "stream",
     "text": [
      "national_rank 0.0107718893525\n",
      "quality_of_education 0.0480500473497\n",
      "alumni_employment 0.0698077683721\n",
      "quality_of_faculty 0.695909685684\n",
      "citations 0.149756189014\n",
      "patents 0.0257044202277\n"
     ]
    }
   ],
   "source": [
    "mse3['rf'] = mse_test\n",
    "a1 = regr.feature_importances_\n",
    "for i in range(len(a1)):\n",
    "    print(df3_X.columns[i], a1[i])\n"
   ]
  },
  {
   "cell_type": "code",
   "execution_count": 333,
   "metadata": {
    "collapsed": false
   },
   "outputs": [
    {
     "data": {
      "text/plain": [
       "<matplotlib.axes._subplots.AxesSubplot at 0x2539e8c0ba8>"
      ]
     },
     "execution_count": 333,
     "metadata": {},
     "output_type": "execute_result"
    },
    {
     "data": {
      "image/png": "[encoded data removed]",
      "text/plain": [
       "<matplotlib.figure.Figure at 0x2539e89ab70>"
      ]
     },
     "metadata": {},
     "output_type": "display_data"
    }
   ],
   "source": [
    "imp3_rf = {}\n",
    "for i in range(len(a1)):\n",
    "    imp3_rf[df3_X.columns[i]] = a1[i]\n",
    "pd.DataFrame.from_dict(data = imp3_rf, orient='index').plot(kind='bar', legend=False, title = 'Importances')"
   ]
  },
  {
   "cell_type": "markdown",
   "metadata": {
    "collapsed": true
   },
   "source": [
    "Наиболее важный признак - качество преподавательского состава."
   ]
  },
  {
   "cell_type": "code",
   "execution_count": 334,
   "metadata": {
    "collapsed": false,
    "scrolled": true
   },
   "outputs": [
    {
     "data": {
      "text/plain": [
       "array([[<matplotlib.axes._subplots.AxesSubplot object at 0x000002539E871080>]], dtype=object)"
      ]
     },
     "execution_count": 334,
     "metadata": {},
     "output_type": "execute_result"
    },
    {
     "data": {
      "image/png": "[encoded data removed]",
      "text/plain": [
       "<matplotlib.figure.Figure at 0x2539f8d7898>"
      ]
     },
     "metadata": {},
     "output_type": "display_data"
    }
   ],
   "source": [
    "#гистограмма отклонений смещена в положительную сторону\n",
    "\n",
    "res_test = y3_test - y3_prediction\n",
    "res_test = pd.DataFrame(res_test)\n",
    "res_test.columns = ['Residuals']\n",
    "res_test.hist()\n"
   ]
  },
  {
   "cell_type": "code",
   "execution_count": 336,
   "metadata": {
    "collapsed": false
   },
   "outputs": [
    {
     "data": {
      "text/plain": [
       "<matplotlib.axes._subplots.AxesSubplot at 0x2539e8c22b0>"
      ]
     },
     "execution_count": 336,
     "metadata": {},
     "output_type": "execute_result"
    },
    {
     "data": {
      "image/png": "[encoded data removed]",
      "text/plain": [
       "<matplotlib.figure.Figure at 0x2539f901588>"
      ]
     },
     "metadata": {},
     "output_type": "display_data"
    }
   ],
   "source": [
    "pd.DataFrame.from_dict(data = mse3, orient='index').plot(kind='bar', legend=False, title = 'MSE')"
   ]
  },
  {
   "cell_type": "markdown",
   "metadata": {},
   "source": [
    "Применим логистическую регрессию и метод наивного Байеса"
   ]
  },
  {
   "cell_type": "code",
   "execution_count": null,
   "metadata": {
    "collapsed": true
   },
   "outputs": [],
   "source": [
    "Возьмем вузы из 3го рейтинга за 2014й год и разобьем их на 20 классов(уровней) от 0 до 19 "
   ]
  },
  {
   "cell_type": "code",
   "execution_count": 233,
   "metadata": {
    "collapsed": false
   },
   "outputs": [],
   "source": [
    "df3_2014 = df3[df3['year'] == 2014]\n",
    "a = []\n",
    "for index, row in df3_2014.iterrows():\n",
    "    a.append((index-200) // 50)\n",
    "df3_2014['level'] = a"
   ]
  },
  {
   "cell_type": "code",
   "execution_count": 234,
   "metadata": {
    "collapsed": true
   },
   "outputs": [],
   "source": [
    "from sklearn.linear_model import LogisticRegression\n",
    "from sklearn import metrics"
   ]
  },
  {
   "cell_type": "code",
   "execution_count": 235,
   "metadata": {
    "collapsed": true
   },
   "outputs": [],
   "source": [
    "DF3_2014 = df3_2014.loc[:,['national_rank','quality_of_education', 'alumni_employment', 'quality_of_faculty', 'citations', 'patents','level']]\n",
    "df3_X = DF3_2014.iloc[:,:6]\n",
    "df3_y = DF3_2014.level\n",
    "df3_train, df3_test, y3_train, y3_test = train_test_split(df3_X, df3_y, train_size=0.7, random_state = 13)"
   ]
  },
  {
   "cell_type": "code",
   "execution_count": 236,
   "metadata": {
    "collapsed": false
   },
   "outputs": [
    {
     "data": {
      "text/plain": [
       "LogisticRegression(C=1.0, class_weight=None, dual=False, fit_intercept=True,\n",
       "          intercept_scaling=1, max_iter=100, multi_class='ovr', n_jobs=1,\n",
       "          penalty='l1', random_state=None, solver='liblinear', tol=0.0001,\n",
       "          verbose=0, warm_start=False)"
      ]
     },
     "execution_count": 236,
     "metadata": {},
     "output_type": "execute_result"
    }
   ],
   "source": [
    "model = LogisticRegression(penalty='l1')\n",
    "model.fit(df3_X, list(df3_y))"
   ]
  },
  {
   "cell_type": "code",
   "execution_count": 227,
   "metadata": {
    "collapsed": false
   },
   "outputs": [],
   "source": [
    "predicted = model.predict(df3_X)\n",
    "expected = list(df3_y)"
   ]
  },
  {
   "cell_type": "code",
   "execution_count": 228,
   "metadata": {
    "collapsed": false
   },
   "outputs": [
    {
     "name": "stdout",
     "output_type": "stream",
     "text": [
      "             precision    recall  f1-score   support\n",
      "\n",
      "          0       0.56      0.80      0.66        50\n",
      "          1       0.54      0.30      0.38        50\n",
      "          2       0.45      0.56      0.50        50\n",
      "          3       0.24      0.12      0.16        50\n",
      "          4       0.27      0.40      0.32        50\n",
      "          5       0.22      0.12      0.16        50\n",
      "          6       0.16      0.28      0.20        50\n",
      "          7       0.19      0.14      0.16        50\n",
      "          8       0.16      0.22      0.19        50\n",
      "          9       0.14      0.18      0.16        50\n",
      "         10       0.33      0.02      0.04        50\n",
      "         11       0.11      0.10      0.11        50\n",
      "         12       0.03      0.02      0.02        50\n",
      "         13       0.00      0.00      0.00        50\n",
      "         14       0.20      0.22      0.21        50\n",
      "         15       0.18      0.38      0.24        50\n",
      "         16       0.14      0.02      0.04        50\n",
      "         17       0.12      0.04      0.06        50\n",
      "         18       0.09      0.08      0.09        50\n",
      "         19       0.28      0.80      0.42        50\n",
      "\n",
      "avg / total       0.22      0.24      0.21      1000\n",
      "\n"
     ]
    }
   ],
   "source": [
    "print(metrics.classification_report(expected, predicted))"
   ]
  },
  {
   "cell_type": "markdown",
   "metadata": {},
   "source": [
    "При использовании l1 точность немного повышается."
   ]
  },
  {
   "cell_type": "code",
   "execution_count": 213,
   "metadata": {
    "collapsed": false
   },
   "outputs": [
    {
     "name": "stdout",
     "output_type": "stream",
     "text": [
      "GaussianNB()\n",
      "             precision    recall  f1-score   support\n",
      "\n",
      "          0       0.66      0.74      0.70        50\n",
      "          1       0.56      0.54      0.55        50\n",
      "          2       0.41      0.32      0.36        50\n",
      "          3       0.23      0.14      0.18        50\n",
      "          4       0.41      0.14      0.21        50\n",
      "          5       0.33      0.08      0.13        50\n",
      "          6       0.00      0.00      0.00        50\n",
      "          7       0.11      0.02      0.03        50\n",
      "          8       0.00      0.00      0.00        50\n",
      "          9       0.00      0.00      0.00        50\n",
      "         10       0.00      0.00      0.00        50\n",
      "         11       0.06      0.40      0.11        50\n",
      "         12       0.00      0.00      0.00        50\n",
      "         13       0.00      0.00      0.00        50\n",
      "         14       0.00      0.00      0.00        50\n",
      "         15       0.10      0.30      0.15        50\n",
      "         16       0.00      0.00      0.00        50\n",
      "         17       0.00      0.00      0.00        50\n",
      "         18       0.32      0.14      0.19        50\n",
      "         19       0.16      0.94      0.28        50\n",
      "\n",
      "avg / total       0.17      0.19      0.14      1000\n",
      "\n"
     ]
    },
    {
     "name": "stderr",
     "output_type": "stream",
     "text": [
      "C:\\Users\\Aspire\\Anaconda3\\lib\\site-packages\\sklearn\\metrics\\classification.py:1074: UndefinedMetricWarning: Precision and F-score are ill-defined and being set to 0.0 in labels with no predicted samples.\n",
      "  'precision', 'predicted', average, warn_for)\n"
     ]
    }
   ],
   "source": [
    "from sklearn import metrics\n",
    "from sklearn.naive_bayes import GaussianNB\n",
    "model = GaussianNB()\n",
    "model.fit(df3_X, list(df3_y))\n",
    "print(model)\n",
    "\n",
    "expected = list(df3_y)\n",
    "predicted = model.predict(df3_X)\n",
    "\n",
    "print(metrics.classification_report(expected, predicted))"
   ]
  },
  {
   "cell_type": "markdown",
   "metadata": {},
   "source": [
    "Оба метода показали не самую лучшую точность, особенно плохо предсказываются уровни вузов в середине рейтинга\n",
    "(что логично, так как ошибка приходится в 2 стороны)\n",
    "Но всё же логистическая регрессия оказалась более точной."
   ]
  },
  {
   "cell_type": "markdown",
   "metadata": {},
   "source": [
    "__ Выводы проекта: __\n",
    "\n",
    "Мы провели исследование трех рейтингов университетов, используя различные методы анализа днных. Для каждого рейтинга, мы построили линейную регрессию, дерево решений и случайный лес. На первом рейтинге в линейной регресии ошибки на тестовой и обучающей выборке мало различались, что говорит о высоком качесве модели, а значение R^2 бликое к 1 свидетельсвует о почти линейной зависимости между показателем total score и осталными признаками. \n",
    "\n",
    "\n",
    "По итогам ллинейной регрессии наиболее важными признаками оказались исследования и цитироание. Саммую большую значимость показала переменная исследований и при построении дерева решений. \n",
    "\n",
    "\n",
    "Нам пришлось восстановить большое число пропущенных даных в переменной total score во втором рейтинге (3796 из 4897), поэтому total score линейно зависит от остальных признков. Построение линейной регрессии полностью повторило коэффициенты переменных, используемых авторами рейтинга. Так как большая часть признаков берется с коэффициентом 0,2, сложно выделить несоклько главных компонентов, более всего влияющих на место университета в рейтинге. \n",
    "\n",
    "\n",
    "Крайне низкие коэффициенты признаков в линейной регрессии для третьего рейтинга явно говорят о нелинейной зависимости между total score и остальными признаками. Как дерево решений, так и случайный лес показали высокую предсказательную способность модели, но в случайном лесе меньше разница между ошибками на тестовых выборках и на обучающих выборках, что говорит о лучшей применимости этого алгоритма к данному рейтингу. Оба метода показали в качестве наиболее значимого признака качество преподавательского состава. Примененные к данному рейтингу классификации высокой точности не показали.\n",
    "\n",
    "\n",
    "Таким образом, теперь мы можем с высокой точностью построить рейтинг университетов, используя новые данные (например, данные 2016 года). Главными пременными, оказывающими наибольшее влияние на значение total score, оказались исследования и качество преподавательского состава, а значит, для высших учебных заведений крайне важно иметь высоко квалифицированнх преподавателей, что в свою очередь будет положительно влиять на остальные признаки."
   ]
  }
 ],
 "metadata": {
  "kernelspec": {
   "display_name": "Python 3",
   "language": "python",
   "name": "python3"
  },
  "language_info": {
   "codemirror_mode": {
    "name": "ipython",
    "version": 3
   },
   "file_extension": ".py",
   "mimetype": "text/x-python",
   "name": "python",
   "nbconvert_exporter": "python",
   "pygments_lexer": "ipython3",
   "version": "3.5.1"
  }
 },
 "nbformat": 4,
 "nbformat_minor": 0
}
